{
 "cells": [
  {
   "cell_type": "markdown",
   "metadata": {},
   "source": [
    "# Introduction"
   ]
  },
  {
   "cell_type": "markdown",
   "metadata": {},
   "source": [
    "QCD is, of course, the theory of quarks and gluons.  At high energies the precision with which it can describe mesons and their properties is essential for understanding experimental signals, such as collider signals at the LHC.\n",
    "\n",
    "In contrast, the low-energy sector of QCD---the sector of protons, neutrons, and their interactions---is much more poorly understood.  Or, rather, the precision with which we can extract numbers about nuclear physics from QCD remains much more limited---there still exist theories of nuclear physics that are not quantitatively grounded in the Standard Model."
   ]
  },
  {
   "cell_type": "markdown",
   "metadata": {},
   "source": [
    "In the last decade or so the single-nucleon sector has come under excellent control.  The nucleon masses and the proton-neutron mass splitting have been determined at the physical point, in the continuum limit, for example.  A steady march towards precision single-nucleon matrix elements is under way."
   ]
  },
  {
   "cell_type": "markdown",
   "metadata": {},
   "source": [
    "Once you leave the single-nucleon sector, however, the field is much less developed.  However, multinucleon physics is interesting for a variety of experimental programs, such as low-energy underground BSM and neutrino experiments.  The targets in these experiments are not single nucleons but rather atomic nuclei.  So to interpret any signal from these experiments as constraints on new physics requires disentangling all the effects of many-body nuclear physics and QCD to pull out whatever may be new."
   ]
  },
  {
   "cell_type": "markdown",
   "metadata": {},
   "source": [
    "QCD is also, obviously, the foundation on top of which nuclear physics, in principle, is built.  However, making this connection quantitative has remained an outstanding problem since it became clear QCD was, in fact, the theory of the strong nuclear force.\n",
    "\n",
    "The simplest multi-nucleon sector is the two nucleon sector.  Here, the simplest observables include the binding energies of any bound states and the scattering phase shifts.  We still lack a determination of these quantities from QCD at physical pion masses; at heavier pion masses there are still no calculations in the continuum limit."
   ]
  },
  {
   "cell_type": "markdown",
   "metadata": {},
   "source": [
    "Scattering is a real-time process.  It also formally relies on asymptotically separated states.  However, on the lattice, typically we have neither: we usually work in Euclidean time to have a well-defined probability measure and we work in a finite volume so that our calculations require a finite amount of RAM and a finite amount of execution time.  There is a no-go theorem due to Maiani and Testa that seemingly prevented access to scattering observables.\n",
    "\n",
    "However, Lüscher taught us how to turn these seeming limitations to our advantage.  He provided a map from the finite volume spectrum (which can be determined in Euclidean time---or real time, if you happen to have a method to do so!) to the infinite-volume phase shifts at those energies that appear in that finite volume.  Then, by changing the volume we work in we can change the allowed energies and fill in the phase shifts as a function of momentum."
   ]
  },
  {
   "cell_type": "markdown",
   "metadata": {},
   "source": [
    "In this notebook we will work through a simple problem in the same spirit: two interacting nonrelativistic particles in one spatial dimension.  \n",
    "\n",
    "The approach will be as follows:\n",
    "1. Set up the problem and study its infinite-volume case.\n",
    "2. Set up the same system but where the two particles are on a ring of radius $L$.  Derive the quantization condition.  The quantization condition is the map from the finite-volume energies to scattering phase shift.\n",
    "3. Discretize the finite-volume problem and extract its spectrum for a variety of radii.\n",
    "4. Using the quantization condition, translate the energies found into phase shifts and compare with what we found in the infinite-volume case."
   ]
  },
  {
   "cell_type": "markdown",
   "metadata": {},
   "source": [
    "In lattice QCD we do not have access to the nuclear Hamiltonian.  However, we can nevertheless determine its spectrum and use the quantization condition to translate those results into phase shifts!"
   ]
  },
  {
   "cell_type": "markdown",
   "metadata": {},
   "source": [
    "# One-Dimensional Quantum Mechanics Setup"
   ]
  },
  {
   "cell_type": "markdown",
   "metadata": {},
   "source": [
    "Consider two distinguishable quantum mechanical particles that move in one infinite spatial dimension.  Let their interaction potential $V$ depend only on their separation.  Then, their Hamiltonian is given by\n",
    "$$ \\mathcal{H} = \\frac{p_1^2}{2 m_1} + \\frac{p_2^2}{2 m_2} + V(x_1-x_2) $$"
   ]
  },
  {
   "cell_type": "markdown",
   "metadata": {},
   "source": [
    "We can switch to center-of-mass and relative coordinates.  Let\n",
    "\\begin{align}\n",
    "    M &= m_1 + m_2                      &  \\mu &= \\frac{m_1 m_2}{M} \\\\\n",
    "    X &= \\frac{m_1 x_1 + m_2 x_2}{M}    &    x &= x_1 - x_2          \\\\\n",
    "    Q &= p_1+p_2                        &    q &= \\frac{m_2 p_1 - m_1 p_2}{M}                \\\\\n",
    "    U &= Q / M                          &    u &= q/\\mu\n",
    "\\end{align}\n",
    "\n",
    "where the capital letters are center-of-mass variables, lower case letters are relative-coordinate variables, $M$ is mass, $X$ is position, $Q$ is momentum, and $U$ is velocity.\n",
    "\n",
    "Then it is easy to check the canonical commutation relations $[X,Q]=[x,q]=i$ hold, and that $[X,q]=[x,Q]=0$, so that we have completely decoupled the center-of-mass and relative motion."
   ]
  },
  {
   "cell_type": "markdown",
   "metadata": {},
   "source": [
    "### Exercise\n",
    "Check that $[X,Q]=[x,q]=i$ and that $[X,q]=[x,Q]=0$, assuming the canonical commutation relations $[x_i,p_j]=i \\delta_{ij}$"
   ]
  },
  {
   "cell_type": "markdown",
   "metadata": {},
   "source": [
    "### Exercise\n",
    "Check that the Hamiltonian may be rewritten in the new variables,\n",
    "\\begin{equation}\n",
    "    \\mathcal{H} = \\frac{Q^2}{2 M} + \\frac{q^2}{2 \\mu} + V(x)\n",
    "\\end{equation}"
   ]
  },
  {
   "cell_type": "markdown",
   "metadata": {},
   "source": [
    "In these coordinates, it's clear that, as long as $V$ is even, there is a parity symmetry,\n",
    "\\begin{align}\n",
    "    x &\\rightarrow -x      &\n",
    "    q &\\rightarrow -q\n",
    "\\end{align}\n",
    "because $[H, \\mathcal{P}]=[V(x), \\mathcal{P}]=0$ where $\\mathcal{P}$ is the operator implementing the above transformation.\n",
    "\n",
    "Moreover, the center of mass is completely free.  So, the physical observables can only be a function of the relative momentum $q$."
   ]
  },
  {
   "cell_type": "markdown",
   "metadata": {},
   "source": [
    "# Infinite Volume Scattering"
   ]
  },
  {
   "cell_type": "markdown",
   "metadata": {},
   "source": [
    "A Galiean boost of a particle of mass $m$ by velocity $u$ is achieved by multiplying its wavefunction by $e^{i m u x}$.  To boost the whole system, we need to multiply by $e^{i(p_1 x_1 + p_2 x_2)}$."
   ]
  },
  {
   "cell_type": "markdown",
   "metadata": {},
   "source": [
    "### Exercise\n",
    "Check that boosting the two particles separately gives the expected center-of-mass and relative boosts.  That is, check that rewriting in terms of center-of-mass and relative motion variables,\n",
    "\\begin{equation}\n",
    "    e^{i(p_1 x_1 +p_2 x_2)} = e^{i Q X} e^{i q x}.\n",
    "\\end{equation}"
   ]
  },
  {
   "cell_type": "markdown",
   "metadata": {},
   "source": [
    "Consider the scattering of two particles incident on one another in one dimension.  As the experimenter, we have the ability to control the momenta of the individual particles at the beginning of our scattering experiment.  That lets us set the initial $p_1$ and $p_2$ and thus the initial $Q$ and $q$ arbitrarily.\n",
    "\n",
    "After the particles interact, their momenta may be changed.  How this exactly happens we don't get to investigate---we just have access to the asymptotic states.  What we do know, of course, is that center-of-mass momentum and energy are separately conserved."
   ]
  },
  {
   "cell_type": "markdown",
   "metadata": {},
   "source": [
    "### Exercise\n",
    "The momenta after scattering is entirely fixed by kinematics, and is especially simple in 1 dimension.  Use conservation of energy and momentum to show the only allowed final relative momenta are $\\pm q$."
   ]
  },
  {
   "cell_type": "markdown",
   "metadata": {},
   "source": [
    "We can separately discuss cases when the first particle is to the left or right of the second particle,\n",
    "\n",
    "\\begin{align}\n",
    "    x_1 - x_2 &> 0 & x &> 0 && \\text{\"on the right\"} \\\\\n",
    "    x_1 - x_2 &< 0 & x &< 0 && \\text{\"on the left\"}\n",
    "\\end{align}"
   ]
  },
  {
   "cell_type": "markdown",
   "metadata": {},
   "source": [
    "We can also identify cases of the particles incident on one another or when they're spreading apart.  \n",
    "\n",
    "It's most easy to think in the center of mass frame, where the particles aren't both moving in the same direction.  The particles are diverging if particle 1 is to the left and is moving left or is to the right and is moving right.  If the first particle is to the left and moving right, or is to the right and moving left, they are incident.\n",
    "\n",
    "In the center of mass frame, particle 1 moving to the right and particle 2 moving to the left corresponds to a positive $q$.  If particle 1 is moving to the left and particle 2 to the right, we'll find a negative $q$."
   ]
  },
  {
   "cell_type": "markdown",
   "metadata": {},
   "source": [
    "For a given energy in our scattering experiment, the four states we can access are\n",
    "\n",
    "\\begin{align}\n",
    "    \\langle x X \\mid \\text{incoming from the left } \\rangle &\\sim e^{i Q X}e^{+i q x} \\theta(-x) &\n",
    "    \\langle x X \\mid \\text{outgoing to the right  } \\rangle &\\sim e^{i Q X}e^{+i q x} \\theta(+x) \\\\\n",
    "    \\langle x X \\mid \\text{outgoing to the left   } \\rangle &\\sim e^{i Q X}e^{-i q x} \\theta(-x) &\n",
    "    \\langle x X \\mid \\text{incoming from the right} \\rangle &\\sim e^{i Q X}e^{-i q x} \\theta(+x)\n",
    "\\end{align}\n",
    "\n",
    "where the Heaviside $\\theta$-function tells us where the first particle is in relation to the second particle and the sign of $q$ tells us where it's heading.\n",
    "\n",
    "We understand that the $\\theta$-functions are really telling us in which asymptotic region we're supposed to be looking in---we don't really have access to the wavefunction inside the range of the potential."
   ]
  },
  {
   "cell_type": "markdown",
   "metadata": {},
   "source": [
    "The $S$-matrix is the map that takes some incoming states and produces some outgoing states.  If our initial state is given by\n",
    "\n",
    "\\begin{equation}\n",
    "    \\left|\\Psi_i\\right\\rangle = \\alpha \\left|Q, q; \\text{incoming from the left}\\right\\rangle \n",
    "                              + \\beta  \\left|Q, q; \\text{incoming from the right}\\right\\rangle\n",
    "\\end{equation}\n",
    "\n",
    "and the final state by\n",
    "\n",
    "\\begin{equation}\n",
    "    \\left|\\Psi_f\\right\\rangle = a      \\left|Q, q; \\text{outgoing to the right}\\right\\rangle\n",
    "                              + b      \\left|Q, q; \\text{outgoing to the left}\\right\\rangle.\n",
    "\\end{equation}\n",
    "\n",
    "Then the $S$-matrix relates the coefficients,\n",
    "\n",
    "\\begin{equation}\n",
    "    \\left(\\begin{matrix} a \\\\ b\\end{matrix}\\right) \n",
    "    = S\n",
    "    \\left(\\begin{matrix} \\alpha \\\\ \\beta \\end{matrix}\\right).\n",
    "\\end{equation}"
   ]
  },
  {
   "cell_type": "markdown",
   "metadata": {},
   "source": [
    "Let's now move to interactions with good parity.  We can symmetrize to states of even ($+1$) and odd ($-1$) parity,\n",
    "\n",
    "\\begin{align}\n",
    "    \\langle X, x \\mid Q, q; \\text{incoming, parity }P \\rangle &\\sim e^{i Q X}\\left(e^{+i q x} \\theta(-x) + P e^{-i q x} \\theta(+x) \\right)/\\sqrt{2} \\\\\n",
    "    \\langle X, x \\mid Q, q; \\text{outgoing, parity }P \\rangle &\\sim e^{i Q X}\\left(e^{+i q x} \\theta(+x) + P e^{-i q x} \\theta(-x) \\right)/\\sqrt{2}\n",
    "\\end{align}\n",
    "\n",
    "and rewrite the asymptotic states\n",
    "\n",
    "\\begin{equation}\n",
    "    \\left|\\Psi_i, \\text{parity }P\\right\\rangle \n",
    "    = \\alpha_\\pm \\left|Q, q; \\text{incoming, parity }P\\right\\rangle \n",
    "\\end{equation}\n",
    "\n",
    "and\n",
    "\n",
    "\\begin{equation}\n",
    "    \\left|\\Psi_f, \\text{parity }P\\right\\rangle \n",
    "    = a_\\pm      \\left|Q, q; \\text{outgoing, parity }P\\right\\rangle \n",
    "\\end{equation}\n",
    "\n",
    "Because of the symmetry of the Hamiltonian, we know the $S$ matrix doesn't mix these different parities.  So, we have diagonalized $S$-matrix,\n",
    "\n",
    "\\begin{align}\n",
    "    a_+ &= S_+ \\alpha_+\n",
    "    &\n",
    "    a_- &= S_- \\alpha_-\n",
    "\\end{align}\n",
    "\n",
    "In three spatial dimensions, the spiritually equivalent rewriting is in the basis of good angular momentum.\n",
    "\n",
    "Since $S$ is unitary and the different channels don't talk to one another, each channel has its own independent scattering phase shift $\\delta(p)$ that depends on the scattering momentum and determines the $S$ matrix  $S_\\pm = \\exp\\left(2 i \\delta_\\pm(p)\\right)$."
   ]
  },
  {
   "cell_type": "markdown",
   "metadata": {},
   "source": [
    "# Finite-Volume Quantization Condition"
   ]
  },
  {
   "cell_type": "markdown",
   "metadata": {},
   "source": [
    "In an infinite volume, we can perform a scattering experiment with whatever momenta we please.  However, in a finite volume not every momentum combination fits.  As you well know, only certain wavefunctions will fit exactly in a box and yield eigenstates.  Most states don't fit.  That changes the continuous infinite-volume spectrum into a discrete spectrum.  Put another way, the boundary conditions enforce a relation between the asymptotic states of the infinite-volume case.  It's this relation that we need to deduce and turn to our advantage."
   ]
  },
  {
   "cell_type": "markdown",
   "metadata": {},
   "source": [
    "Consider the same Hamiltonian where each particle is now on the same one-dimensional ring of radius $L$.  That is, we identify $-\\pi L$ with $\\pi L$.  The periodicity is easily expressed in terms of the variables $x_1$ and $x_2$:\n",
    "\n",
    "\\begin{equation}\n",
    "    \\Psi(x_1 + 2 \\pi L n_1, x_2 + 2 \\pi L n_2) = \\Psi(x_1, x_2)\n",
    "\\end{equation}\n",
    "\n",
    "where $n_1$ and $n_2$ are any integers.  They tell us how many times the particle orbits the ring under our transformation.\n",
    "\n",
    "We need to change this restriction on the wavefunction into a quantization condition that relates the energies and phase shifts."
   ]
  },
  {
   "cell_type": "markdown",
   "metadata": {},
   "source": [
    "Notice that here we could include *twisted boundary conditions*, where each particle can pick up a phase over the course of an orbit.  Twisted boundary conditions are sometimes applied to the quarks in lattice QCD, while the hadrons' twists are automatically determined.  For simplicity, we just mention this in passing and proceed in the specialized, untwisted case."
   ]
  },
  {
   "cell_type": "markdown",
   "metadata": {},
   "source": [
    "The eigenfunctions will be be states where, when the outgoing states reach the periodic boundary, they *just* perfectly match the incoming states.  In other words, the allowed wavefunction will be some combination,\n",
    "\\begin{equation}\n",
    "    \\left|\\Psi\\right\\rangle = A \\left|\\Psi_i\\right\\rangle + B \\left|\\Psi_f\\right\\rangle.\n",
    "\\end{equation}\n",
    "where we have suppressed the parity and both momentum labels."
   ]
  },
  {
   "cell_type": "markdown",
   "metadata": {},
   "source": [
    "Let's set $x_1=-\\pi L$, $n_1=1$, and $n_2$ = 0.  Then it will be easy to see which asymptotic pieces of the wavefunction to pick, as when $x_1=-\\pi L$ $x<0$ and when $x_1=+\\pi L$ $x>0$.\n",
    "\n",
    "\\begin{align}\n",
    "    \\left\\langle -\\pi L, x_2 \\middle| \\Psi \\right\\rangle &= \\left\\langle +\\pi L, x_2 \\middle| \\Psi \\right\\rangle \\\\\n",
    "    e^{i Q(-m_1 \\pi L+m_2 x_2)/M} \\left(\n",
    "    A e^{+i q (-\\pi L - x_2)} + P B e^{-i q (-\\pi L - x_2)}\n",
    "    \\right) &= \n",
    "    e^{i Q(+m_1 \\pi L+m_2 x_2)/M} \\left(\n",
    "    + A P e^{-i q (+\\pi L - x_2)} + B e^{+i q (+\\pi L - x_2)}\n",
    "    \\right)\n",
    "\\end{align}\n",
    "\n",
    "Regrouping to expose the $x_2$ dependence gives\n",
    "\n",
    "\\begin{equation}\n",
    "e^{+i q x_2}\\left(\n",
    "      P B e^{+i q \\pi L - i Q \\pi L m_1 / M} \n",
    "    - P A e^{-i q \\pi L + i Q \\pi L m_1 / M}\n",
    "    \\right)\n",
    "    +\n",
    "    e^{-i q x_2}\\left(\n",
    "        A e^{-i q \\pi L - i Q \\pi L m_1 / M}\n",
    "    -   B e^{+i q \\pi L + i Q \\pi L m_1 / M}\n",
    "    \\right) = 0\n",
    "\\end{equation}\n",
    "\n",
    "As this must hold for every $x_2$, the terms must vanish independently.  Each term yields\n",
    "\n",
    "\\begin{equation}\n",
    "    \\frac{B}{A} = e^{-2\\pi i q L + 2 \\pi i Q L m_1 / M}\n",
    "\\end{equation}\n",
    "\n",
    "regardless of $P$."
   ]
  },
  {
   "cell_type": "markdown",
   "metadata": {},
   "source": [
    "Repeating the same exercise matching the $x_2$ boundary, $\\left\\langle x_1, -\\pi L \\middle| \\psi \\right\\rangle = \\left\\langle x_1, +\\pi L \\middle| \\psi \\right\\rangle$ gives\n",
    "\n",
    "\\begin{equation}\n",
    "    \\frac{B}{A} = e^{-2\\pi i q L - 2 \\pi i Q L m_2 / M},\n",
    "\\end{equation}\n",
    "\n",
    "the only difference being the second piece of the exponent."
   ]
  },
  {
   "cell_type": "markdown",
   "metadata": {},
   "source": [
    "### Exercise\n",
    "\n",
    "Convince yourself of the result for matching at the $x_2$ boundary.  Show that demanding consistency between these two results for $B/A$ gives the quantization condition \n",
    "\n",
    "\\begin{equation}\n",
    "    Q = N / L\n",
    "\\end{equation}\n",
    "\n",
    "where $N$ is an integer."
   ]
  },
  {
   "cell_type": "markdown",
   "metadata": {},
   "source": [
    "This quantization condition is *independent of the interaction*.  In Lattice QCD we can construct interpolating operators with definite center-of-mass momentum.  Since that momentum is exactly conserved, the resulting states will definitely have that center-of-mass momentum.  That is, we can *exactly project* to definite center-of-mass momentum sectors.\n",
    "\n",
    "Where is the interaction dependence?  The specification of $Q$ hardly determines the state---we need to know the allowed $q$ as well."
   ]
  },
  {
   "cell_type": "markdown",
   "metadata": {},
   "source": [
    "### Exercise\n",
    "\n",
    "1.  What spatial symmetry/symmetries do the one-dimensional periodic boundary conditions have?  What spatial symmetry/symmetries does the Hamiltonian have?\n",
    "\n",
    "2.  Generalize the implementation of periodic boundary conditions to three spatial dimensions in terms of matching arguments of wavefunctions.  What kind of functions solve them?\n",
    "\n",
    "3.  Do the solutions to the periodic boundary conditions look like eigenfunctions of the Hamiltonian?  What spatial symmetries do the three-dimensional conditions have?  Do these match the symmetries you might expect from a physically reasonable Hamiltonian?  Is one set of symmetries smaller than the other?  Does one contain the other?"
   ]
  },
  {
   "cell_type": "markdown",
   "metadata": {},
   "source": [
    "As we discussed, the $S$-matrix relates asymptotic incoming states to asymptotic outgoing states.  This relation is fundamentally different from the relation given by the periodic boundary conditions.  Recall our earlier discussion: the $S$-matrix is the map that takes some incoming states and produces some outgoing states.  So, it directly provides a determination of $B/A$!\n",
    "\n",
    "\\begin{equation}\n",
    "    \\frac{B}{A} = e^{2 i \\delta(q)}\n",
    "\\end{equation}"
   ]
  },
  {
   "cell_type": "markdown",
   "metadata": {},
   "source": [
    "### Exercise\n",
    "\n",
    "Show that, using our result above, we get\n",
    "\n",
    "\\begin{equation}\n",
    "\\delta(q) = \\pi q L + N \\pi \\frac{m_2}{M}\n",
    "\\end{equation}\n",
    "\n",
    "This quantization condition *seemingly* distinguishes $m_1$ from $m_2$.  Convince yourself that there's another, equivalent quantization condition that makes the opposite distinction and that nothing's wrong."
   ]
  },
  {
   "cell_type": "markdown",
   "metadata": {},
   "source": [
    "*This formula is the equivalent of Lüscher's formula for this simple problem.*\n",
    "\n",
    "If you can follow this story, you understand conceptually the whole thing.  The complication of what you see in the literature is simply handling the difficulties of three dimensions, having multiple open channels, etc.*\n",
    "\n",
    "The Lüscher formula allows us to translate the finite-volume spectrum into scattering information.  The procedure is as follows:\n",
    "\n",
    "0.  Fix the infinite-volume parameters (the masses and their interaction potential).\n",
    "1.  Fix a box size $L$.\n",
    "2.  Determine the energy spectrum with a definitive $N$.\n",
    "3.  Use the energy level to extract $q$.\n",
    "4.  Use the relation above to compute the phase shift $\\delta$ at that relative momentum."
   ]
  },
  {
   "cell_type": "markdown",
   "metadata": {},
   "source": [
    "Note that $\\delta(q)$ is a physical observable.  So if we fix $L$ and change $N$ we'll pull out different energy levels, in such a way so that the quantization condition remains satisfied.  Let's see how that happens."
   ]
  },
  {
   "cell_type": "markdown",
   "metadata": {},
   "source": [
    "## The Periodicity Condition for the Relative Wavefunction"
   ]
  },
  {
   "cell_type": "markdown",
   "metadata": {},
   "source": [
    "The quantization condition\n",
    "\n",
    "\\begin{equation}\n",
    "    \\Psi(x_1 + 2 \\pi L n_1, x_2 + 2 \\pi L n_2) = \\Psi(x_1, x_2)\n",
    "\\end{equation}\n",
    "\n",
    "is written in terms of the single-particle coordinates $x_1$ and $x_2$.  Let's rewrite it in terms of collective coordinates and wavefunctions."
   ]
  },
  {
   "cell_type": "markdown",
   "metadata": {},
   "source": [
    "If we project to a sector of definite center-of-mass momentum the wavefunctions factor,\n",
    "\n",
    "\\begin{equation}\n",
    "    \\Psi(X, x) = e^{i Q X} \\psi_Q(x)\n",
    "\\end{equation}\n",
    "\n",
    "The single-particle transformations $x_1 \\rightarrow x_1 + 2\\pi L n_1$ and $x_2 \\rightarrow x_2 + 2\\pi L n_2$ are equivalent to\n",
    "\n",
    "\\begin{align}\n",
    "    X &\\rightarrow X + 2 \\pi L \\frac{m_1 n_1 + m_2 n_2}{M} \\\\\n",
    "    x &\\rightarrow x + 2 \\pi L (n_1 - n_2)\n",
    "\\end{align}\n",
    "\n",
    "So we can translate the single-particle writing into collective coordinates,\n",
    "\n",
    "\\begin{equation}\n",
    "    \\Psi\\left(X + 2\\pi L \\frac{m_1 n_1 + m_2 n_2}{M}, x + 2 \\pi L (n_1 - n_2)\\right) = \\Psi(X, x)\n",
    "\\end{equation}\n",
    "\n",
    "and then use the factorization into center-of-mass and relative wavefunctions, and the center-of-mass quantization condition $Q = N/L$,\n",
    "\n",
    "\\begin{align}\n",
    "    e^{i Q \\left(X + 2\\pi L \\frac{m_1 n_1 + m_2 n_2}{M}\\right)}\\psi_Q(x+2\\pi L(n_1-n_2))\n",
    "    &=\n",
    "    e^{i Q X}\\psi_Q(x) \\\\\n",
    "    e^{2\\pi i N \\frac{m_1 n_1 + m_2 n_2}{M}}\\psi_N(x+2\\pi L(n_1-n_2))\n",
    "    &=\n",
    "    \\psi_N(x) \\\\\n",
    "    e^{-2\\pi i N (n_1-n_2) \\frac{m_2}{M}}\\psi_N(x+2\\pi L(n_1-n_2))\n",
    "    &=\n",
    "    \\psi_N(x) \\\\\n",
    "    e^{-2\\pi i N n \\frac{m_2}{M}}\\psi_N(x+2\\pi L n)\n",
    "    &=\n",
    "    \\psi_N(x) \\\\\n",
    "\\end{align}\n",
    "where $n = n_1 - n_2$.\n",
    "\n",
    "This says that the relative wavefunction isn't periodic in $x$ but instead picks up an $N$-dependent twist.  When $N=0$ the relative wavefunction is periodic!"
   ]
  },
  {
   "cell_type": "markdown",
   "metadata": {},
   "source": [
    "**Below, we specialize to $N=0$**\n",
    "\n",
    "This allows us to entirely drop the center-of-mass coordinate from the Hamiltonian.  We'll study\n",
    "\n",
    "\\begin{equation}\n",
    "    \\mathcal{H} = \\frac{q^2}{2 \\mu} + V(x)\n",
    "\\end{equation}\n",
    "\n",
    "on a ring of radius $L$ numerically.\n",
    "\n",
    "That is, we'll solve a single-particle problem and interpret the results in terms of the relative wavefunction $\\psi_0(x)$ using the now-specialized quantization condition\n",
    "\n",
    "\\begin{equation}\n",
    "\\delta(q) = \\pi q L\n",
    "\\end{equation}"
   ]
  },
  {
   "cell_type": "markdown",
   "metadata": {},
   "source": [
    "# Discretization"
   ]
  },
  {
   "cell_type": "markdown",
   "metadata": {},
   "source": [
    "## Formalism"
   ]
  },
  {
   "cell_type": "markdown",
   "metadata": {},
   "source": [
    "We will get the spectrum of the finite-volume Hamiltonian by direct diagonalization.  In contrast, the finite-volume spectrum in QCD is extracted by measuring correlation functions.  The Lüscher formalism doesn't care how you obtained the finite-volume spectrum---it simply tells you how to take that spectrum and extract infinite-volume phase shifts."
   ]
  },
  {
   "cell_type": "markdown",
   "metadata": {},
   "source": [
    "We'll slowly build up the Hamiltonian $\\mathcal{H}$.  We'll think of the wavefunction $\\psi$ as the vectors on which operators work.  Each entry in the vector will represent the wavefunction at a different spatial point.  We'll solve the time-independent Schrödinger equation\n",
    "\n",
    "\\begin{equation}\n",
    "H \\left|\\psi_n\\right\\rangle = E_n \\left|\\psi_n\\right\\rangle\n",
    "\\end{equation}\n",
    "\n",
    "We just need simple linear algebra and plotting utilities:"
   ]
  },
  {
   "cell_type": "code",
   "execution_count": null,
   "metadata": {},
   "outputs": [],
   "source": [
    "import numpy as np\n",
    "import matplotlib.pyplot as plt"
   ]
  },
  {
   "cell_type": "markdown",
   "metadata": {},
   "source": [
    "## Lattice"
   ]
  },
  {
   "cell_type": "markdown",
   "metadata": {},
   "source": [
    "We need to discretize a ring with radius $L$.  One might want all sorts of meshes.  Here we will just consider a mesh with uniform spacing.  Let us conventionally discretize the range $L * [-\\pi,\\pi)$ with $N$ evenly-spaced points."
   ]
  },
  {
   "cell_type": "code",
   "execution_count": null,
   "metadata": {},
   "outputs": [],
   "source": [
    "def uniform_discretization(N, L):\n",
    "    return np.pi * L * np.arange(-1,1,2/N)"
   ]
  },
  {
   "cell_type": "markdown",
   "metadata": {},
   "source": [
    "Let's visualize progressively finer uniform discretizations for a few radii."
   ]
  },
  {
   "cell_type": "code",
   "execution_count": null,
   "metadata": {},
   "outputs": [],
   "source": [
    "mesh_refinement = plt.figure()\n",
    "axes = mesh_refinement.add_subplot(1,1,1)\n",
    "axes.set_aspect('equal')\n",
    "\n",
    "Ls = [1,2]\n",
    "Ns = 2**np.arange(2,6)\n",
    "for L in Ls:\n",
    "    for N in Ns:\n",
    "        ring = uniform_discretization(N,L)\n",
    "        axes.plot(L*np.cos(ring/L), L*np.sin(ring/L), label=\"N=%i L=%i\"%(N,L))\n",
    "\n",
    "plt.legend(bbox_to_anchor=(1.04,1))\n",
    "plt.show()"
   ]
  },
  {
   "cell_type": "markdown",
   "metadata": {},
   "source": [
    "So, at larger radii we should maybe expect worse discretization effects for a fixed $N$."
   ]
  },
  {
   "cell_type": "markdown",
   "metadata": {},
   "source": [
    "Also, note what happens if we make $N$ odd:"
   ]
  },
  {
   "cell_type": "code",
   "execution_count": null,
   "metadata": {},
   "outputs": [],
   "source": [
    "odd_n = plt.figure()\n",
    "axes = odd_n.add_subplot(1,1,1)\n",
    "axes.set_aspect('equal')\n",
    "\n",
    "\n",
    "L=1\n",
    "for N in 2*np.arange(3,10,2)+1:\n",
    "    ring = uniform_discretization(N,L)\n",
    "    axes.plot(L*np.cos(ring/L), L*np.sin(ring/L), label=\"N=%i L=%i\"%(N,L))\n",
    "\n",
    "plt.show()"
   ]
  },
  {
   "cell_type": "markdown",
   "metadata": {},
   "source": [
    "We *always* miss $x=0$.  So if we're going to put some sort of regularized Dirac delta function potential down, we'd better be careful!"
   ]
  },
  {
   "cell_type": "markdown",
   "metadata": {},
   "source": [
    "## Plotting an operator's spectrum and eigenfunctions"
   ]
  },
  {
   "cell_type": "code",
   "execution_count": null,
   "metadata": {},
   "outputs": [],
   "source": [
    "def plot_spectrum(axis, lattice, eigenvalues, eigenvectors, modes=None):\n",
    "    \n",
    "    vals = eigenvalues\n",
    "    vecs = eigenvectors\n",
    "    if modes is not None:\n",
    "        vals = vals[0:modes]\n",
    "        vecs = vecs[0:modes]\n",
    "\n",
    "    for v,f in zip(vals,vecs):\n",
    "        wavefunction, = axis.plot(lattice,abs(v)*(np.sign(v)+f), linestyle='-')\n",
    "        axis.hlines(v,min(lattice),max(lattice), color = wavefunction.get_color(), linestyle = \":\")\n",
    "\n",
    "    return None"
   ]
  },
  {
   "cell_type": "markdown",
   "metadata": {},
   "source": [
    "## Kinetic Energy"
   ]
  },
  {
   "cell_type": "markdown",
   "metadata": {},
   "source": [
    "Since we're only considering uniform meshes we can easily write the second-derivative operator as a tri-diagonal matrix, using the finite-difference approximation\n",
    "\\begin{equation}\n",
    "  f''(x_i) = \\frac{f(x_{i+1})-2 f(x_i) + f(x_{i-1})}{(\\Delta x)^2} + \\mathcal{O}(\\Delta x)\n",
    "\\end{equation}"
   ]
  },
  {
   "cell_type": "markdown",
   "metadata": {},
   "source": [
    "The kinetic energy operator for a particle with mass $m$ is given by\n",
    "\\begin{equation}\n",
    "    T_m = - \\frac{1}{2 m} \\partial^2\n",
    "\\end{equation}\n",
    "We need to specify both a mass and a discretization.\n",
    "\n",
    "The function `T` is of type `mass --> discretization --> operator`.  It currently assumes a uniform discretization and periodic boundary conditions."
   ]
  },
  {
   "cell_type": "code",
   "execution_count": null,
   "metadata": {},
   "outputs": [],
   "source": [
    "def T(mass):\n",
    "    minus_one_over_twice_mass = -1./(2*mass)\n",
    "\n",
    "    def curried(discretization):\n",
    "        spatial_dimension=len(discretization)\n",
    "        operator = np.zeros([spatial_dimension,spatial_dimension])\n",
    "\n",
    "\n",
    "        # The below assumes a uniform discretization!\n",
    "        dx = discretization[1] - discretization[0]\n",
    "        one_over_dx_squared = 1/(dx**2)\n",
    "\n",
    "        factor = one_over_dx_squared * minus_one_over_twice_mass\n",
    "\n",
    "        for i in range(spatial_dimension):\n",
    "            operator[i,i] = -2. * factor\n",
    "        for i in range(1,spatial_dimension):\n",
    "            operator[i,i-1] = +1. * factor\n",
    "        for i in range(spatial_dimension-1):\n",
    "            operator[i,i+1] = +1. * factor\n",
    "\n",
    "        # Periodic boundary conditions:\n",
    "        operator[0,-1] = +1. * factor\n",
    "        operator[-1,0] = +1. * factor\n",
    "\n",
    "        return operator\n",
    "    return curried"
   ]
  },
  {
   "cell_type": "markdown",
   "metadata": {},
   "source": [
    "We can visualize the stencil that the kinetic energy operator makes."
   ]
  },
  {
   "cell_type": "code",
   "execution_count": null,
   "metadata": {},
   "outputs": [],
   "source": [
    "L=1\n",
    "N=128\n",
    "\n",
    "lattice = uniform_discretization(N,L)\n",
    "mass = 1\n",
    "spacing = 2*np.pi*L/N\n",
    "\n",
    "KE = T(mass)(lattice)\n",
    "\n",
    "kinetic_operator = plt.figure()\n",
    "axes = kinetic_operator.add_subplot(1,1,1)\n",
    "axes.set_aspect('equal')\n",
    "\n",
    "axes.imshow(KE)\n",
    "plt.show()"
   ]
  },
  {
   "cell_type": "markdown",
   "metadata": {},
   "source": [
    "And we can get the spectrum of the free particle on a ring.\n",
    "\n",
    "We know the exact solution has wavefunctions like $exp(i n x / L)$ and thus momenta that take values $n/L$.  The finite difference is\n",
    "\\begin{equation}\n",
    " \\frac{1 - \\cos(a p)}{a^2}\n",
    "\\end{equation}\n",
    "and we can check if our operator gives that dispersion relation."
   ]
  },
  {
   "cell_type": "code",
   "execution_count": null,
   "metadata": {},
   "outputs": [],
   "source": [
    "momentum = np.arange(N/2)/(L)\n",
    "energy = (1-np.cos(spacing*momentum))/spacing**2\n",
    "plt.plot(momentum,energy)\n",
    "\n",
    "free_particle = np.linalg.eigh(KE)\n",
    "# Only show the modes with positive momentum:\n",
    "plt.plot(free_particle[0][::2],\"+\")\n",
    "plt.show()"
   ]
  },
  {
   "cell_type": "markdown",
   "metadata": {},
   "source": [
    "Alternatively, we can plot the spectrum with the wavefunctions:"
   ]
  },
  {
   "cell_type": "code",
   "execution_count": null,
   "metadata": {
    "scrolled": true
   },
   "outputs": [],
   "source": [
    "figure = plt.figure()\n",
    "axis = figure.add_subplot(111)\n",
    "\n",
    "plot_spectrum(axis, lattice, free_particle[0], free_particle[1].T, 11)"
   ]
  },
  {
   "cell_type": "markdown",
   "metadata": {},
   "source": [
    "For each nonzero energy level we see two orthogonal eigenfunctions, which we can combine to the parity even and odd eigenfunctions.\n",
    "\n",
    "We can see that the wavefunctions are losing their smoothness, pretty low in the spectrum."
   ]
  },
  {
   "cell_type": "markdown",
   "metadata": {},
   "source": [
    "## Potential Energy"
   ]
  },
  {
   "cell_type": "markdown",
   "metadata": {},
   "source": [
    "The potential energy is easier than the kinetic, because it is entirely local: doesn't contain derivatives.  It is therefore put on the lattice very simply: we just evaluate the potential on each site and stick that on the diagonal of the operator.\n",
    "\n",
    "The function `V` is of type `potential --> discretization --> operator`.  Later I will give an example of how to construct the `potential` argument, which is a function from `position --> energy`."
   ]
  },
  {
   "cell_type": "code",
   "execution_count": null,
   "metadata": {},
   "outputs": [],
   "source": [
    "def V(potential):\n",
    "    def curried(discretization):\n",
    "        spatial_dimension=len(discretization)\n",
    "        operator = np.zeros([spatial_dimension,spatial_dimension])\n",
    "\n",
    "        for i in range(spatial_dimension):\n",
    "            operator[i,i] = potential(discretization[i])\n",
    "\n",
    "        return operator\n",
    "    return curried"
   ]
  },
  {
   "cell_type": "markdown",
   "metadata": {},
   "source": [
    "## Hamiltonian"
   ]
  },
  {
   "cell_type": "markdown",
   "metadata": {},
   "source": [
    "The Hamiltonian $\\mathcal{H}$ is simply the sum of the kinetic and potential energies.\n",
    "\n",
    "It is of type `(T, V) --> discretization --> operator`."
   ]
  },
  {
   "cell_type": "code",
   "execution_count": null,
   "metadata": {},
   "outputs": [],
   "source": [
    "def hamiltonian(kinetic, potential):\n",
    "    def curried(discretization):\n",
    "        return kinetic(discretization) + potential(discretization)\n",
    "    return curried"
   ]
  },
  {
   "cell_type": "markdown",
   "metadata": {},
   "source": [
    "# A Specific Problem of Interest: The Dirac $\\delta$ Function"
   ]
  },
  {
   "cell_type": "markdown",
   "metadata": {},
   "source": [
    "Let us now simplify to the case of a contact interaction,\n",
    "\\begin{equation}\n",
    "    V(x) = g \\delta(x)\n",
    "\\end{equation}\n",
    "positive (negative) $g$ is repulsive (attractive) and $\\delta$ is the Dirac delta function.\n",
    "\n",
    "For this potential we can work out everything in gory detail, which makes it a good example to check that we know what we're doing."
   ]
  },
  {
   "cell_type": "markdown",
   "metadata": {},
   "source": [
    "Consider two particles with definite momentum and the above contact interaction incident upon one another.  Since our interaction is of 0 range, we can trust the asymptotic wavefunctions used above all the way to the origin.  We know that any eigenfunction obeys the Schrödinger equation,\n",
    "\n",
    "\\begin{equation}\n",
    "    \\left[ -\\frac{1}{2\\mu}\\partial^2 + g \\delta(x) \\right ] \\psi(x) = E \\psi(x)\n",
    "\\end{equation}\n",
    "\n",
    "The delta function will cause a cusp in our wavefunction.  Integrating from $x=-\\epsilon$ to $x=+\\epsilon$ one finds\n",
    "\n",
    "\\begin{equation}\n",
    "    -\\frac{1}{2\\mu}\\left[\\psi'(+\\epsilon) - \\psi'(-\\epsilon)\\right] + g \\psi(0) = E \\int_{-\\epsilon}^{+\\epsilon}dx\\; \\psi(x)\n",
    "\\end{equation}\n",
    "\n",
    "and taking the $\\epsilon\\rightarrow0$ limit yields\n",
    "\n",
    "\\begin{equation}\n",
    "    \\left[\\psi'(0^+) - \\psi'(0^-)\\right] = - 2 \\mu g \\psi(0)\n",
    "\\end{equation}\n",
    "\n",
    "where the $0^\\pm$ indicates which side of 0 the derivative should be evaluated on."
   ]
  },
  {
   "cell_type": "markdown",
   "metadata": {},
   "source": [
    "We immediately see that the parity-odd wavefunctions, which by symmetry have $\\psi(0) = 0$ don't have a cusp at all, because they vanish where the interaction has support.  The parity-odd wavefunctions will therefore give the noninteracting energy levels!"
   ]
  },
  {
   "cell_type": "markdown",
   "metadata": {},
   "source": [
    "The parity-even wavefunctions satisfy $\\psi'(x) = - \\psi'(-x)$.  So, we can simplify to\n",
    "\n",
    "\\begin{align}\n",
    "    \\psi'(0^+) &= - \\mu g \\psi(0)          \\\\\n",
    "    -i q (A-B) &= - \\mu g (A+B)            \\\\\n",
    "    \\frac{i q}{\\mu g} &= \\frac{A+B}{A-B}\n",
    "\\end{align}\n",
    "\n",
    "Now using the $S$-matrix relation that $B/A = e^{2 i \\delta}$ one finds the infinite-volume result\n",
    "\n",
    "\\begin{equation}\n",
    "    \\frac{q}{\\mu g} = \\cot \\delta(q)\n",
    "\\end{equation}\n",
    "\n",
    "This is what we hope to reproduce,\n",
    "\n",
    "\\begin{equation}\n",
    "    \\delta(q) = \\cot^{-1} \\frac{q}{\\mu g}\n",
    "\\end{equation}"
   ]
  },
  {
   "cell_type": "markdown",
   "metadata": {},
   "source": [
    "In the case of an attractive potential (negative $g$) we'll also find a bound state, which happens when\n",
    "\n",
    "\\begin{align}\n",
    "          q \\cot \\delta &= i q \\\\\n",
    "        \\frac{q}{\\mu g} &= i \\\\\n",
    "    E = \\frac{q^2}{2\\mu}&= - \\frac{g^2\\mu}{2}\n",
    "\\end{align}"
   ]
  },
  {
   "cell_type": "code",
   "execution_count": null,
   "metadata": {},
   "outputs": [],
   "source": [
    "q_by_mu_g = np.arange(-20,20,0.1)\n",
    "plt.plot(q_by_mu_g, np.arctan(q_by_mu_g))\n",
    "plt.plot(q_by_mu_g, np.pi/2 + 0*q_by_mu_g,color='k',linestyle='--')\n",
    "\n",
    "plt.show()"
   ]
  },
  {
   "cell_type": "markdown",
   "metadata": {},
   "source": [
    " - Is the finite-volume exact spectrum known?"
   ]
  },
  {
   "cell_type": "markdown",
   "metadata": {},
   "source": [
    "Let's regulate the dirac delta function as a square potential of width $\\epsilon$ and height $1/\\epsilon$ centered on zero:"
   ]
  },
  {
   "cell_type": "code",
   "execution_count": null,
   "metadata": {},
   "outputs": [],
   "source": [
    "def dirac_delta(g, epsilon):\n",
    "    def curried(x):\n",
    "        if -epsilon/2 <= x <= +epsilon/2:\n",
    "            return g / epsilon \n",
    "        else:\n",
    "            return 0\n",
    "    return curried"
   ]
  },
  {
   "cell_type": "code",
   "execution_count": null,
   "metadata": {},
   "outputs": [],
   "source": [
    "g = -1.23\n",
    "ep = 0.01\n",
    "\n",
    "predicted_binding_energy = -g**2 / 2;\n",
    "wavefunction_decay_scale = np.sqrt(2*np.abs(predicted_binding_energy))\n",
    "circumference = 2*3*wavefunction_decay_scale\n",
    "\n",
    "lattice=uniform_discretization(np.floor(circumference/ep), circumference/(2*np.pi))\n",
    "\n",
    "volume = lattice[-1] - lattice[0]\n",
    "spacing = lattice[1] - lattice[0]\n",
    "potential = dirac_delta(g, spacing)\n",
    "\n",
    "H=hamiltonian(T(mass), V(potential))\n",
    "\n",
    "eigenvalues, eigenfunctions = np.linalg.eigh(H(lattice))\n",
    "\n",
    "# Annoyingly one cannot zip over the eigenvalues and vectors as-is:\n",
    "eigenfunctions = eigenfunctions.T"
   ]
  },
  {
   "cell_type": "code",
   "execution_count": null,
   "metadata": {},
   "outputs": [],
   "source": [
    "interacting_spectrum = plt.figure()\n",
    "\n",
    "axis = interacting_spectrum.add_subplot(111)\n",
    "\n",
    "plot_spectrum(axis, lattice, eigenvalues, eigenfunctions, 5)\n",
    "# axis.plot(lattice, [potential(x) for x in lattice])\n",
    "\n",
    "plt.show()"
   ]
  }
 ],
 "metadata": {
  "kernelspec": {
   "display_name": "Python 3",
   "language": "python",
   "name": "python3"
  },
  "language_info": {
   "codemirror_mode": {
    "name": "ipython",
    "version": 3
   },
   "file_extension": ".py",
   "mimetype": "text/x-python",
   "name": "python",
   "nbconvert_exporter": "python",
   "pygments_lexer": "ipython3",
   "version": "3.7.0"
  }
 },
 "nbformat": 4,
 "nbformat_minor": 2
}
