{
 "cells": [
  {
   "cell_type": "markdown",
   "metadata": {},
   "source": [
    "# Introduction"
   ]
  },
  {
   "cell_type": "markdown",
   "metadata": {},
   "source": [
    "QCD is, of course, the theory of quarks and gluons.  At high energies the precision with which it can describe mesons and their properties is essential for understanding experimental signals, such as collider signals at the LHC.\n",
    "\n",
    "In contrast, the low-energy sector of QCD---the sector of protons, neutrons, and their interactions---is much more poorly understood.  Or, rather, the precision with which we can extract numbers about nuclear physics from QCD remains much more limited---there still exist theories of nuclear physics that are not quantitatively grounded in the Standard Model."
   ]
  },
  {
   "cell_type": "markdown",
   "metadata": {},
   "source": [
    "In the last decade or so the single-nucleon sector has come under excellent control.  The nucleon masses and the proton-neutron mass splitting have been determined at the physical point, in the continuum limit, for example.  A steady march towards precision single-nucleon matrix elements is under way."
   ]
  },
  {
   "cell_type": "markdown",
   "metadata": {},
   "source": [
    "Once you leave the single-nucleon sector, however, the field is much less developed.  However, multinucleon physics is interesting for a variety of experimental programs, such as low-energy underground BSM and neutrino experiments.  The targets in these experiments are not single nucleons but rather atomic nuclei.  So to interpret any signal from these experiments as constraints on new physics requires disentangling all the effects of many-body nuclear physics and QCD to pull out whatever may be new."
   ]
  },
  {
   "cell_type": "markdown",
   "metadata": {},
   "source": [
    "QCD is also, obviously, the foundation on top of which nuclear physics, in principle, is built.  However, making this connection quantitative has remained an outstanding problem since it became clear QCD was, in fact, the theory of the strong nuclear force.\n",
    "\n",
    "The simplest multi-nucleon sector is the two nucleon sector.  Here, the simplest observables include the binding energies of any bound states and the scattering phase shifts.  We still lack a determination of these quantities from QCD at physical pion masses; at heavier pion masses there are still no calculations in the continuum limit."
   ]
  },
  {
   "cell_type": "markdown",
   "metadata": {},
   "source": [
    "Scattering is a real-time process.  It also formally relies on asymptotically separated states.  However, on the lattice, typically we have neither: we usually work in Euclidean time to have a well-defined probability measure and we work in a finite volume so that our calculations require a finite amount of RAM and a finite amount of execution time.  There is a no-go theorem due to Maiani and Testa that seemingly prevented access to scattering observables.\n",
    "\n",
    "However, Lüscher taught us how to turn these seeming limitations to our advantage.  He provided a map from the finite volume spectrum (which can be determined in Euclidean time---or real time, if you happened to have a method to do so!) to the infinite-volume phase shifts at those energies that appear in that finite volume.  Then, by changing the volume we work in we can change the allowed energies and fill in the phase shifts as a function of momentum."
   ]
  },
  {
   "cell_type": "markdown",
   "metadata": {},
   "source": [
    "In this notebook we will work through a simple problem in the same spirit: two interacting nonrelativistic particles in one spatial dimension.  \n",
    "\n",
    "The approach will be as follows:\n",
    "1. We will set up the problem and study its infinite-volume case.\n",
    "2. We will set up the same system but where the two particles on a ring of radius $L$.  We will derive the quantization condition.  The quantization condition is the map from the finite-volume energies to scattering phase shift.\n",
    "3. We will discretize the finite-volume problem and extract its spectrum for a variety of radii.\n",
    "4. Using the quantization condition, translate the energies found into phase shifts and compare with what we found in the infinite-volume case."
   ]
  },
  {
   "cell_type": "markdown",
   "metadata": {},
   "source": [
    "In lattice QCD we do not have access to the nuclear Hamiltonian.  However, we can nevertheless determine its spectrum and use the quantization condition to translate those results into phase shifts."
   ]
  },
  {
   "cell_type": "markdown",
   "metadata": {},
   "source": [
    "# Example Setup"
   ]
  },
  {
   "cell_type": "markdown",
   "metadata": {},
   "source": [
    "Consider two quantum mechanical particles that move in one infinite spatial dimension.  Let their interaction potential $V$ depend only on their separation.  Then, their Hamiltonian is given by\n",
    "$$ \\mathcal{H} = \\frac{p_1^2}{2 m_1} + \\frac{p_2^2}{2 m_2} + V(x_1-x_2) $$\n",
    "Let us immediately simplify to the case of a contact interaction,\n",
    "$$ V(x_1-x_2) = \\lambda \\delta(x_1-x_2) $$\n",
    "positive (negative) $\\lambda$ is repulsive (attractive) and $\\delta$ is the Dirac delta function."
   ]
  },
  {
   "cell_type": "markdown",
   "metadata": {},
   "source": [
    "We can switch to center-of-mass and relative coordinates.  Let\n",
    "\\begin{align}\n",
    "    X &= \\frac{m_1 x_1 + m_2 x_2}{M}    &    x &= x_1 - x_2          \\\\\n",
    "    P &= p_1+p_2                        &    p &= \\frac{m_2 p_1 - m_1 p_2}{M}                \\\\\n",
    "    M &= m_1 + m_2                      &  \\mu &= \\frac{m_1 m_2}{M}\n",
    "\\end{align}\n",
    "Then it is easy to check the canonical commutation relations $[X,P]=[x,p]=i$ hold, and that $[X,p]=[x,P]=0$, so that we have completely decoupled the center-of-mass and relative motion.\n",
    "\n",
    "The Hamiltonian may be rewritten in the new variables,\n",
    "\\begin{equation}\n",
    "    \\mathcal{H} = \\frac{P^2}{2 M} + \\frac{p^2}{2 \\mu} + \\lambda \\delta(x)\n",
    "\\end{equation}"
   ]
  },
  {
   "cell_type": "markdown",
   "metadata": {},
   "source": [
    "In these coordinates, it's clear that there is a parity symmetry,\n",
    "\\begin{align}\n",
    "    x &\\rightarrow -x      &\n",
    "    p &\\rightarrow -p.\n",
    "\\end{align}\n",
    "In the parity-odd sector the wavefunction will be zero at $x=0$ and won't feel the interaction at all, but we should expect to find the parity-even sector to feel the interaction."
   ]
  }
 ],
 "metadata": {
  "kernelspec": {
   "display_name": "Python 3",
   "language": "python",
   "name": "python3"
  },
  "language_info": {
   "codemirror_mode": {
    "name": "ipython",
    "version": 3
   },
   "file_extension": ".py",
   "mimetype": "text/x-python",
   "name": "python",
   "nbconvert_exporter": "python",
   "pygments_lexer": "ipython3",
   "version": "3.7.0"
  }
 },
 "nbformat": 4,
 "nbformat_minor": 2
}
