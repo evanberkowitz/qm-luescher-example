{
 "cells": [
  {
   "cell_type": "markdown",
   "metadata": {},
   "source": [
    "# Introduction"
   ]
  },
  {
   "cell_type": "markdown",
   "metadata": {},
   "source": [
    "QCD is, of course, the theory of quarks and gluons.  At high energies the precision with which it can describe mesons and their properties is essential for understanding experimental signals, such as collider signals at the LHC.\n",
    "\n",
    "In contrast, the low-energy sector of QCD---the sector of protons, neutrons, and their interactions---is much more poorly understood.  Or, rather, the precision with which we can extract numbers about nuclear physics from QCD remains much more limited---there still exist theories of nuclear physics that are not quantitatively grounded in the Standard Model."
   ]
  },
  {
   "cell_type": "markdown",
   "metadata": {},
   "source": [
    "In the last decade or so the single-nucleon sector has come under excellent control.  The nucleon masses and the proton-neutron mass splitting have been determined at the physical point, in the continuum limit, for example.  A steady march towards precision single-nucleon matrix elements is under way."
   ]
  },
  {
   "cell_type": "markdown",
   "metadata": {},
   "source": [
    "Once you leave the single-nucleon sector, however, the field is much less developed.  However, multinucleon physics is interesting for a variety of experimental programs, such as low-energy underground BSM and neutrino experiments.  The targets in these experiments are not single nucleons but rather atomic nuclei.  So to interpret any signal from these experiments as constraints on new physics requires disentangling all the effects of many-body nuclear physics and QCD to pull out whatever may be new."
   ]
  },
  {
   "cell_type": "markdown",
   "metadata": {},
   "source": [
    "QCD is also, obviously, the foundation on top of which nuclear physics, in principle, is built.  However, making this connection quantitative has remained an outstanding problem since it became clear QCD was, in fact, the theory of the strong nuclear force.\n",
    "\n",
    "The simplest multi-nucleon sector is the two nucleon sector.  Here, the simplest observables include the binding energies of any bound states and the scattering phase shifts.  We still lack a determination of these quantities from QCD at physical pion masses; at heavier pion masses there are still no calculations in the continuum limit."
   ]
  },
  {
   "cell_type": "markdown",
   "metadata": {},
   "source": [
    "Scattering is a real-time process.  It also formally relies on asymptotically separated states.  However, on the lattice, typically we have neither: we usually work in Euclidean time to have a well-defined probability measure and we work in a finite volume so that our calculations require a finite amount of RAM and a finite amount of execution time.  There is a no-go theorem due to Maiani and Testa that seemingly prevented access to scattering observables.\n",
    "\n",
    "However, Lüscher taught us how to turn these seeming limitations to our advantage.  He provided a map from the finite volume spectrum (which can be determined in Euclidean time---or real time, if you happened to have a method to do so!) to the infinite-volume phase shifts at those energies that appear in that finite volume.  Then, by changing the volume we work in we can change the allowed energies and fill in the phase shifts as a function of momentum."
   ]
  },
  {
   "cell_type": "markdown",
   "metadata": {},
   "source": [
    "In this notebook we will work through a simple problem in the same spirit: two interacting nonrelativistic particles in one spatial dimension.  \n",
    "\n",
    "The approach will be as follows:\n",
    "1. We will set up the problem and study its infinite-volume case.\n",
    "2. We will set up the same system but where the two particles on a ring of radius $L$.  We will derive the quantization condition.  The quantization condition is the map from the finite-volume energies to scattering phase shift.\n",
    "3. We will discretize the finite-volume problem and extract its spectrum for a variety of radii.\n",
    "4. Using the quantization condition, translate the energies found into phase shifts and compare with what we found in the infinite-volume case."
   ]
  },
  {
   "cell_type": "markdown",
   "metadata": {},
   "source": [
    "In lattice QCD we do not have access to the nuclear Hamiltonian.  However, we can nevertheless determine its spectrum and use the quantization condition to translate those results into phase shifts!"
   ]
  },
  {
   "cell_type": "markdown",
   "metadata": {},
   "source": [
    "# One-Dimensional Quantum Mechanics Setup"
   ]
  },
  {
   "cell_type": "markdown",
   "metadata": {},
   "source": [
    "Consider two quantum mechanical particles that move in one infinite spatial dimension.  Let their interaction potential $V$ depend only on their separation.  Then, their Hamiltonian is given by\n",
    "$$ \\mathcal{H} = \\frac{p_1^2}{2 m_1} + \\frac{p_2^2}{2 m_2} + V(x_1-x_2) $$"
   ]
  },
  {
   "cell_type": "markdown",
   "metadata": {},
   "source": [
    "We can switch to center-of-mass and relative coordinates.  Let\n",
    "\\begin{align}\n",
    "    X &= \\frac{m_1 x_1 + m_2 x_2}{M}    &    x &= x_1 - x_2          \\\\\n",
    "    P &= p_1+p_2                        &    p &= \\frac{m_2 p_1 - m_1 p_2}{M}                \\\\\n",
    "    M &= m_1 + m_2                      &  \\mu &= \\frac{m_1 m_2}{M}\n",
    "\\end{align}\n",
    "Then it is easy to check the canonical commutation relations $[X,P]=[x,p]=i$ hold, and that $[X,p]=[x,P]=0$, so that we have completely decoupled the center-of-mass and relative motion.\n",
    "\n",
    "The Hamiltonian may be rewritten in the new variables,\n",
    "\\begin{equation}\n",
    "    \\mathcal{H} = \\frac{P^2}{2 M} + \\frac{p^2}{2 \\mu} + V(x)\n",
    "\\end{equation}"
   ]
  },
  {
   "cell_type": "markdown",
   "metadata": {},
   "source": [
    "In these coordinates, it's clear that, as long as $V$ is even, there is a parity symmetry,\n",
    "\\begin{align}\n",
    "    x &\\rightarrow -x      &\n",
    "    p &\\rightarrow -p.\n",
    "\\end{align}\n",
    "In the parity-odd sector the wavefunction will be zero at $x=0$ and won't feel the interaction at all, but we should expect to find the parity-even sector to feel the interaction."
   ]
  },
  {
   "cell_type": "markdown",
   "metadata": {},
   "source": [
    "Moreover, the center of mass is completely free.  So, the physical observables can only be a function of the relative momentum $p$."
   ]
  },
  {
   "cell_type": "markdown",
   "metadata": {},
   "source": [
    "# Infinite Volume Scattering"
   ]
  },
  {
   "cell_type": "markdown",
   "metadata": {},
   "source": [
    "# Finite-Volume Quantization Condition"
   ]
  },
  {
   "cell_type": "markdown",
   "metadata": {},
   "source": [
    "Now consider the same Hamiltonian where each particle is on the same one-dimensional ring of radius $L$.  That is, we identify $-\\pi L$ with $\\pi L$.  The periodicity is easily expressed in terms of the variables $x_1$ and $x_2$:\n",
    "\\begin{align}\n",
    "    \\psi(x_1 + 2 \\pi L, x_2) &= \\psi(x_1, x_2) \\\\\n",
    "    \\psi(x_1, x_2 + 2 \\pi L) &= \\psi(x_1, x_2) \\\\\n",
    "\\end{align}\n",
    "Notice that here we could include *twisted boundary conditions*, where each particle can pick up a phase over the course of an orbit.  In QCD we twist quark fields and the hadrons' twists are automatically determined.\n",
    "\n",
    "We need to change this restriction on the wavefunction into a quantization condition that relates the energies and phase shifts."
   ]
  },
  {
   "cell_type": "markdown",
   "metadata": {},
   "source": [
    "# Discretization"
   ]
  },
  {
   "cell_type": "markdown",
   "metadata": {},
   "source": [
    "## Formalism"
   ]
  },
  {
   "cell_type": "markdown",
   "metadata": {},
   "source": [
    "We will get the spectrum of the finite-volume Hamiltonian by direct diagonalization.  In contrast, the finite-volume spectrum in QCD is extracted by measuring correlation functions.  The Lüscher formalism doesn't care how you obtained the finite-volume spectrum---it simply tells you how to take that spectrum and extract infinite-volume phase shifts."
   ]
  },
  {
   "cell_type": "markdown",
   "metadata": {},
   "source": [
    "We'll slowly build up the Hamiltonian $\\mathcal{H}$.  We'll think of the wavefunction $\\psi$ as the vectors on which operators work.  Each entry in the vector will represent the wavefunction at a different spacetime point.\n",
    "\n",
    "We just need simple linear algebra and plotting utilities:"
   ]
  },
  {
   "cell_type": "code",
   "execution_count": null,
   "metadata": {},
   "outputs": [],
   "source": [
    "import numpy as np\n",
    "import matplotlib.pyplot as plt"
   ]
  },
  {
   "cell_type": "markdown",
   "metadata": {},
   "source": [
    "## Lattice"
   ]
  },
  {
   "cell_type": "markdown",
   "metadata": {},
   "source": [
    "We need to discretize a ring with radius $L$.  One might want all sorts of meshes.  Here we will just consider a mesh with uniform spacing.  Let us conventionally discretize the range $L * [-\\pi,\\pi)$ with $N$ evenly-spaced points."
   ]
  },
  {
   "cell_type": "code",
   "execution_count": null,
   "metadata": {},
   "outputs": [],
   "source": [
    "def uniform_discretization(N, L):\n",
    "    return np.pi * L * np.arange(-1,1,2/N)"
   ]
  },
  {
   "cell_type": "markdown",
   "metadata": {},
   "source": [
    "Let's visualize progressively finer uniform discretizations for a few radii."
   ]
  },
  {
   "cell_type": "code",
   "execution_count": null,
   "metadata": {},
   "outputs": [],
   "source": [
    "mesh_refinement = plt.figure()\n",
    "axes = mesh_refinement.add_subplot(1,1,1)\n",
    "axes.set_aspect('equal')\n",
    "\n",
    "Ls = [1,2]\n",
    "Ns = 2**np.arange(2,6)\n",
    "for L in Ls:\n",
    "    for N in Ns:\n",
    "        ring = uniform_discretization(N,L)\n",
    "        axes.plot(L*np.cos(ring/L), L*np.sin(ring/L), label=\"N=%i L=%i\"%(N,L))\n",
    "\n",
    "plt.legend(bbox_to_anchor=(1.04,1))\n",
    "plt.show()"
   ]
  },
  {
   "cell_type": "markdown",
   "metadata": {},
   "source": [
    "So, at larger radii we should maybe expect worse discretization effects for a fixed $N$."
   ]
  },
  {
   "cell_type": "markdown",
   "metadata": {},
   "source": [
    "Also, note what happens if we make $N$ odd:"
   ]
  },
  {
   "cell_type": "code",
   "execution_count": null,
   "metadata": {},
   "outputs": [],
   "source": [
    "odd_n = plt.figure()\n",
    "axes = odd_n.add_subplot(1,1,1)\n",
    "axes.set_aspect('equal')\n",
    "\n",
    "\n",
    "L=1\n",
    "for N in 2*np.arange(3,10,2)+1:\n",
    "    ring = uniform_discretization(N,L)\n",
    "    axes.plot(L*np.cos(ring/L), L*np.sin(ring/L), label=\"N=%i L=%i\"%(N,L))\n",
    "\n",
    "plt.show()"
   ]
  },
  {
   "cell_type": "markdown",
   "metadata": {},
   "source": [
    "We *always* miss $x=0$.  So if we're going to put some sort of regularized Dirac delta function potential down, we'd better be careful!"
   ]
  },
  {
   "cell_type": "markdown",
   "metadata": {},
   "source": [
    "## Plotting an operator's spectrum and eigenfunctions"
   ]
  },
  {
   "cell_type": "code",
   "execution_count": null,
   "metadata": {},
   "outputs": [],
   "source": [
    "def plot_spectrum(axis, lattice, eigenvalues, eigenvectors, modes=None):\n",
    "    \n",
    "    vals = eigenvalues\n",
    "    vecs = eigenvectors\n",
    "    if modes is not None:\n",
    "        vals = vals[0:modes]\n",
    "        vecs = vecs[0:modes]\n",
    "\n",
    "    for v,f in zip(vals,vecs):\n",
    "        wavefunction, = axis.plot(lattice,abs(v)*(np.sign(v)+f), linestyle='-')\n",
    "        axis.hlines(v,min(lattice),max(lattice), color = wavefunction.get_color(), linestyle = \":\")\n",
    "\n",
    "    return None"
   ]
  },
  {
   "cell_type": "markdown",
   "metadata": {},
   "source": [
    "## Kinetic Energy"
   ]
  },
  {
   "cell_type": "markdown",
   "metadata": {},
   "source": [
    "Since we're only considering uniform meshes we can easily write the second-derivative operator as a tri-diagonal matrix, using the finite-difference approximation\n",
    "\\begin{equation}\n",
    "  f''(x_i) = \\frac{f(x_{i+1})-2 f(x_i) + f(x_{i-1})}{(\\Delta x)^2} + \\mathcal{O}(\\Delta x)\n",
    "\\end{equation}"
   ]
  },
  {
   "cell_type": "markdown",
   "metadata": {},
   "source": [
    "The kinetic energy operator for a particle with mass $m$ is given by\n",
    "\\begin{equation}\n",
    "    T_m = - \\frac{1}{2 m} \\partial^2\n",
    "\\end{equation}\n",
    "We need to specify both a mass and a discretization.\n",
    "\n",
    "The function `T` is of type `mass --> discretization --> operator`.  It currently assumes a uniform discretization and periodic boundary conditions."
   ]
  },
  {
   "cell_type": "code",
   "execution_count": null,
   "metadata": {},
   "outputs": [],
   "source": [
    "def T(mass):\n",
    "    minus_one_over_twice_mass = -1./(2*mass)\n",
    "\n",
    "    def curried(discretization):\n",
    "        spatial_dimension=len(discretization)\n",
    "        operator = np.zeros([spatial_dimension,spatial_dimension])\n",
    "\n",
    "\n",
    "        # The below assumes a uniform discretization!\n",
    "        dx = discretization[1] - discretization[0]\n",
    "        one_over_dx_squared = 1/(dx**2)\n",
    "\n",
    "        factor = one_over_dx_squared * minus_one_over_twice_mass\n",
    "\n",
    "        for i in range(spatial_dimension):\n",
    "            operator[i,i] = -2. * factor\n",
    "        for i in range(1,spatial_dimension):\n",
    "            operator[i,i-1] = +1. * factor\n",
    "        for i in range(spatial_dimension-1):\n",
    "            operator[i,i+1] = +1. * factor\n",
    "\n",
    "        # Periodic boundary conditions:\n",
    "        operator[0,-1] = +1. * factor\n",
    "        operator[-1,0] = +1. * factor\n",
    "\n",
    "        return operator\n",
    "    return curried"
   ]
  },
  {
   "cell_type": "markdown",
   "metadata": {},
   "source": [
    "We can visualize the stencil that the kinetic energy operator makes."
   ]
  },
  {
   "cell_type": "code",
   "execution_count": null,
   "metadata": {},
   "outputs": [],
   "source": [
    "L=1\n",
    "N=32\n",
    "lattice = uniform_discretization(N,L)\n",
    "mass = 1\n",
    "spacing = 2*np.pi*L/N\n",
    "\n",
    "KE = T(mass)(lattice)\n",
    "\n",
    "kinetic_operator = plt.figure()\n",
    "axes = kinetic_operator.add_subplot(1,1,1)\n",
    "axes.set_aspect('equal')\n",
    "\n",
    "axes.imshow(KE)\n",
    "plt.show()"
   ]
  },
  {
   "cell_type": "markdown",
   "metadata": {},
   "source": [
    "And we can get the spectrum of the free particle on a ring.\n",
    "\n",
    "We know the exact solution has wavefunctions like $exp(i n x / L)$ and thus momenta that take values $n/L$.  The finite difference is\n",
    "\\begin{equation}\n",
    " \\frac{1 - \\cos(a p)}{a^2}\n",
    "\\end{equation}\n",
    "and we can check if our operator gives that dispersion relation."
   ]
  },
  {
   "cell_type": "code",
   "execution_count": null,
   "metadata": {},
   "outputs": [],
   "source": [
    "momentum = np.arange(N/2)/(L)\n",
    "energy = (1-np.cos(spacing*momentum))/spacing**2\n",
    "plt.plot(momentum,energy)\n",
    "\n",
    "free_particle = np.linalg.eigh(KE)\n",
    "# Only show the modes with positive momentum:\n",
    "plt.plot(free_particle[0][::2],\"+\")\n",
    "plt.show()"
   ]
  },
  {
   "cell_type": "markdown",
   "metadata": {},
   "source": [
    "Alternatively, we can plot the spectrum with the wavefunctions:"
   ]
  },
  {
   "cell_type": "code",
   "execution_count": null,
   "metadata": {},
   "outputs": [],
   "source": [
    "figure = plt.figure()\n",
    "axis = figure.add_subplot(111)\n",
    "\n",
    "plot_spectrum(axis, lattice, free_particle[0], free_particle[1].T, 10)"
   ]
  },
  {
   "cell_type": "markdown",
   "metadata": {},
   "source": [
    "We can see that the wavefunctions are losing their smoothness, pretty low in the spectrum."
   ]
  },
  {
   "cell_type": "markdown",
   "metadata": {},
   "source": [
    "## Potential Energy"
   ]
  },
  {
   "cell_type": "markdown",
   "metadata": {},
   "source": [
    "The potential energy is easier than the kinetic, because it is entirely local: doesn't contain derivatives.  It is therefore put on the lattice very simply: we just evaluate the potential on each site and stick that on the diagonal of the operator.\n",
    "\n",
    "The function `V` is of type `potential --> discretization --> operator`.  Later I will give an example of how to construct the `potential` argument, which is a function from `position --> energy`."
   ]
  },
  {
   "cell_type": "code",
   "execution_count": null,
   "metadata": {},
   "outputs": [],
   "source": [
    "def V(potential):\n",
    "    def curried(discretization):\n",
    "        spatial_dimension=len(discretization)\n",
    "        operator = np.zeros([spatial_dimension,spatial_dimension])\n",
    "\n",
    "        for i in range(spatial_dimension):\n",
    "            operator[i,i] = potential(discretization[i])\n",
    "\n",
    "        return operator\n",
    "    return curried"
   ]
  },
  {
   "cell_type": "markdown",
   "metadata": {},
   "source": [
    "## Hamiltonian"
   ]
  },
  {
   "cell_type": "markdown",
   "metadata": {},
   "source": [
    "The Hamiltonian $\\mathcal{H}$ is simply the sum of the kinetic and potential energies.\n",
    "\n",
    "It is of type `(T, V) --> discretization --> operator`."
   ]
  },
  {
   "cell_type": "code",
   "execution_count": null,
   "metadata": {},
   "outputs": [],
   "source": [
    "def hamiltonian(kinetic, potential):\n",
    "    def curried(discretization):\n",
    "        return kinetic(discretization) + potential(discretization)\n",
    "    return curried"
   ]
  },
  {
   "cell_type": "markdown",
   "metadata": {},
   "source": [
    "# A Specific Problem of Interest: The Dirac $\\delta$ Function"
   ]
  },
  {
   "cell_type": "markdown",
   "metadata": {},
   "source": [
    "Let us now simplify to the case of a contact interaction,\n",
    "\\begin{equation}\n",
    "    V(x) = g \\delta(x)\n",
    "\\end{equation}\n",
    "positive (negative) $g$ is repulsive (attractive) and $\\delta$ is the Dirac delta function.\n",
    "\n",
    "Let's regulate it as a square potential of width $\\epsilon$ and height $1/\\epsilon$ centered on zero:"
   ]
  },
  {
   "cell_type": "code",
   "execution_count": null,
   "metadata": {},
   "outputs": [],
   "source": [
    "def dirac_delta(g, epsilon):\n",
    "    def curried(x):\n",
    "        if -epsilon <= x <= +epsilon:\n",
    "            return g / epsilon \n",
    "        else:\n",
    "            return 0\n",
    "    return curried"
   ]
  },
  {
   "cell_type": "code",
   "execution_count": null,
   "metadata": {},
   "outputs": [],
   "source": [
    "g = -1.23\n",
    "ep = 0.01\n",
    "\n",
    "predicted_binding_energy = -g**2 / 2;\n",
    "wavefunction_decay_scale = np.sqrt(2*np.abs(predicted_binding_energy))\n",
    "circumference = 2*3*wavefunction_decay_scale\n",
    "\n",
    "lattice=uniform_discretization(np.floor(circumference/ep), circumference/(2*np.pi))\n",
    "\n",
    "volume = lattice[-1] - lattice[0]\n",
    "spacing = lattice[1] - lattice[0]\n",
    "potential = dirac_delta(g, spacing)\n",
    "\n",
    "H=hamiltonian(T(mass), V(potential))\n",
    "\n",
    "eigenvalues, eigenfunctions = np.linalg.eigh(H(lattice))\n",
    "\n",
    "# Annoyingly one cannot zip over the eigenvalues and vectors as-is:\n",
    "eigenfunctions = eigenfunctions.T"
   ]
  },
  {
   "cell_type": "code",
   "execution_count": null,
   "metadata": {},
   "outputs": [],
   "source": [
    "plt.plot(eigenvalues,\"+\")\n",
    "plt.show()"
   ]
  },
  {
   "cell_type": "code",
   "execution_count": null,
   "metadata": {},
   "outputs": [],
   "source": [
    "interacting_spectrum = plt.figure()\n",
    "\n",
    "axis = interacting_spectrum.add_subplot(111)\n",
    "\n",
    "plot_spectrum(axis, lattice, eigenvalues, eigenfunctions, 5)\n",
    "# axis.plot(lattice, [potential(x) for x in lattice])\n",
    "\n",
    "plt.show()"
   ]
  }
 ],
 "metadata": {
  "kernelspec": {
   "display_name": "Python 3",
   "language": "python",
   "name": "python3"
  },
  "language_info": {
   "codemirror_mode": {
    "name": "ipython",
    "version": 3
   },
   "file_extension": ".py",
   "mimetype": "text/x-python",
   "name": "python",
   "nbconvert_exporter": "python",
   "pygments_lexer": "ipython3",
   "version": "3.7.0"
  }
 },
 "nbformat": 4,
 "nbformat_minor": 2
}
