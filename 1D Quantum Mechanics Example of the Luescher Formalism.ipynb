{
 "cells": [
  {
   "cell_type": "code",
   "execution_count": null,
   "id": "4006f94e-07ec-4c80-a728-89da98807246",
   "metadata": {},
   "outputs": [],
   "source": [
    "import numpy as np\n",
    "import matplotlib.pyplot as plt"
   ]
  },
  {
   "cell_type": "code",
   "execution_count": null,
   "id": "82b9e946-d610-49c3-a3ed-5034913da40c",
   "metadata": {},
   "outputs": [],
   "source": [
    "%matplotlib inline"
   ]
  },
  {
   "cell_type": "code",
   "execution_count": null,
   "id": "6c8d860c-aaa9-4f71-89c7-f3b3d33e7986",
   "metadata": {},
   "outputs": [],
   "source": [
    "from collections import deque"
   ]
  },
  {
   "cell_type": "markdown",
   "id": "ce2c2ce6-f2ae-47f7-b2cf-bc158d6ff00d",
   "metadata": {},
   "source": [
    "This notebook was prepared for exercises during [Lattice Practices 2023](https://indico.desy.de/event/40590/)."
   ]
  },
  {
   "cell_type": "markdown",
   "id": "9db41a3d-7112-49fe-90ed-1d4cea9bf9d6",
   "metadata": {},
   "source": [
    "It starts with a background discussion which you are free to skip.\n",
    "\n",
    "Here are the exercises:\n",
    "\n",
    "Then we reduce the quantum-mechanical two-body scattering problem in 1D into a potential scattering problem. [ 2 small pen-and-paper exercises ]\n",
    "\n",
    "We review the S matrix.\n",
    "\n",
    "We impose periodic boundary conditions and the finite-volume quantization condition emerges. [ 2 pen-and-paper exercises and 3 questions to ponder ]\n",
    "\n",
    "We at last reach numerical examples:\n",
    "\n",
    "First we introduce a simple 1D quantum-mechanics solver, and check it against the free particle.\n",
    "You have to implement the `free_spectrum` and `free_phase_shift`.\n",
    "\n",
    "To transform the free particle finite-volume energies into scattering data you have to implement\n",
    " - `Luescher_x`\n",
    " - `S`\n",
    " - `cot_delta`\n",
    " - `Luescher_map`\n",
    "   \n",
    "but the results are essentially trivial.\n",
    "\n",
    "Now a nontrivial example.  The $\\delta$-function interaction.  Implement\n",
    " - The interaction itself\n",
    " - Can you improve the result?\n",
    " - What's going on with the bound state?\n",
    "\n",
    "Finally, a mystery potential.  What can you say about it?  No peeking!"
   ]
  },
  {
   "cell_type": "markdown",
   "id": "af064844-c703-4acd-af2a-764e43889cdd",
   "metadata": {},
   "source": [
    "# Introduction"
   ]
  },
  {
   "cell_type": "markdown",
   "id": "b60470aa-d103-43b3-8ee9-b30186885864",
   "metadata": {},
   "source": [
    "QCD is, of course, the theory of quarks and gluons.  At high energies the precision with which it can describe mesons and their properties is essential for understanding experimental signals, such as collider signals at the LHC.\n",
    "\n",
    "In contrast, the low-energy sector of QCD–––the sector of protons, neutrons, and their interactions–––is much more poorly understood.  Or, rather, the precision with which we can extract numbers about nuclear physics from QCD remains much more limited–––there still exist theories of nuclear physics that are not quantitatively grounded in the Standard Model."
   ]
  },
  {
   "cell_type": "markdown",
   "id": "2193eeb9-a7d7-4e3e-a981-3d0f0b5ba921",
   "metadata": {},
   "source": [
    "In the last decade or so the single-nucleon sector has come under excellent control.  The nucleon masses and the proton-neutron mass splitting have been determined at the physical point, in the continuum limit, for example.  A steady march towards precision single-nucleon matrix elements is under way."
   ]
  },
  {
   "cell_type": "markdown",
   "id": "93c44bf7-db69-4633-85af-f407e3c1d745",
   "metadata": {},
   "source": [
    "Once you leave the single-nucleon sector, however, the field is much less developed.  However, multinucleon physics is interesting for a variety of experimental programs, such as low-energy underground BSM and neutrino experiments.  The targets in these experiments are not single nucleons but rather atomic nuclei.  So to interpret any signal from these experiments as constraints on new physics requires disentangling all the effects of many-body nuclear physics and QCD to pull out whatever may be new."
   ]
  },
  {
   "cell_type": "markdown",
   "id": "65d90f8c-b78d-4efc-866a-c36aa622f88e",
   "metadata": {},
   "source": [
    "QCD is also, obviously, the foundation on top of which nuclear physics, in principle, is built.  However, making this connection quantitative has remained an outstanding problem since it became clear QCD was, in fact, the theory of the strong nuclear force.\n",
    "\n",
    "The simplest multi-nucleon sector is the two nucleon sector.  Here, the simplest observables include the binding energies of any bound states and the scattering phase shifts.  We still lack a determination of these quantities from QCD at physical pion masses; at heavier pion masses there are still no calculations in the continuum limit."
   ]
  },
  {
   "cell_type": "markdown",
   "id": "f5e3fc02-03b3-4306-8585-1d8384a0889e",
   "metadata": {},
   "source": [
    "Scattering is a real-time process.  It also formally relies on asymptotically separated states.  However, on the lattice, typically we have neither: we usually work in Euclidean time to have a well-defined probability measure and we work in a finite volume so that our calculations require a finite amount of RAM and a finite amount of execution time.  There is a no-go theorem due to Maiani and Testa ([PLB **245**, 585 (1990)](https://doi.org/10.1016/0370-2693(90)90695-3)) that seemingly prevented access to scattering observables.\n",
    "\n",
    "However, Lüscher taught us (Commun. Math. Phys [104](https://doi.org/10.1007/BF01211589) and [105](https://doi.org/10.1007/BF01211097) (1986), [Nucl. Phys. B354 (1991) 531-578](https://doi.org/10.1016/0550-3213(91)90366-6), [Nucl. Phys. B364 (1991) 237-251](https://doi.org/10.1016/0550-3213(91)90584-K)) how to turn these seeming limitations to our advantage.  He provided a map from the finite volume spectrum (which can be determined in Euclidean time–––or real time, if you happen to have a method to do so!) to the infinite-volume phase shifts at those energies that appear in that finite volume.  Then, by changing the volume we work in we can change the allowed energies and fill in the phase shifts as a function of momentum."
   ]
  },
  {
   "cell_type": "markdown",
   "id": "80df1484-64df-43a7-992f-aa74973299b4",
   "metadata": {},
   "source": [
    "Since those seminal works, there has been an enormous amount of theoretical progress, generalizing to moving frames, matrix elements, inelastic processes, the three-body case, and more.\n",
    "\n",
    "See, for example,\n",
    "\n",
    " - Wiese [Nucl. Phys. Proc. Suppl. 9 (1989) 609-613](https://doi.org/10.1016/0920-5632(89)90171-0)\n",
    " - Gottlieb and Rummukainen [Nucl. Phys. Proc. Suppl 47 (1996) 819-822](https://doi.org/10.1016/0920-5632(96)00182-X)\n",
    " - Hansen and Sharpe [PRD 86 (2012) 016007](https://doi.org/10.1103/PhysRevD.86.016007)\n",
    " - Briceño and Davoudi [PRD 87 (2013) 9 094507](https://doi.org/10.1103/PhysRevD.87.094507) and [PRD 88 (2013) 9 094507](https://doi.org/10.1103/PhysRevD.88.094507)\n",
    " - Briceño, Davoudi, and Luu [PRD 88 (2013) 3 034502](https://doi.org/10.1103/PhysRevD.88.034502)\n",
    " - Briceño, Davoudi, Luu, and Savage [PRD 88 (2013) 11 114507](https://doi.org/10.1103/PhysRevD.88.114507) and [PRD 89 (2014) 7 074509](https://doi.org/10.1103/PhysRevD.89.074509)\n",
    " - Briceño, Hansen, and Walker-Loud [PRD 91 (2015) 3 034501](https://doi.org/10.1103/PhysRevD.91.034501)\n",
    " - Hansen and Sharpe [PRD 90 (2014) 11 116003](https://doi.org/10.1103/PhysRevD.90.116003), [PRD 92 (2015) 11 114509](https://doi.org/10.1103/PhysRevD.92.114509), [PRD 93 (2016) 014506](https://doi.org/10.1103/PhysRevD.93.014506), [PRD 93 (2016) 9 096006](https://doi.org/10.1103/PhysRevD.93.096006) and [erratum](https://doi.org/10.1103/PhysRevD.96.039901), [PRD 95 (2017) 3 034501](https://doi.org/10.1103/PhysRevD.95.034501)"
   ]
  },
  {
   "cell_type": "markdown",
   "id": "d9f2c2db-a660-4019-99bf-153a51f48e96",
   "metadata": {},
   "source": [
    "Morever, there has been enormous success in *actually applying Lüscher's technique to learn about QCD*!  \n",
    "\n",
    "**Here is a substantially incomplete list**."
   ]
  },
  {
   "cell_type": "markdown",
   "id": "4baedb4e-bcaf-4ed3-aab9-6893aa364ed0",
   "metadata": {},
   "source": [
    "The mesonic sector is by far the most sophisticated, and it's essentially impossible to cover the entire literature.\n",
    "\n",
    "For recent progress, and a nearly-comprehensive-to-that-point review see\n",
    "\n",
    " - Briceño, Dudek, and Young [Rev.Mod.Phys. 90 (2018) 025001](https://doi.org/10.1103/RevModPhys.90.025001)."
   ]
  },
  {
   "cell_type": "markdown",
   "id": "4928760e-bc78-453a-b67c-7cf9ac20164b",
   "metadata": {},
   "source": [
    "Once there are baryons, measuring correlators is much more painful and progress lags in comparison.\n",
    "\n",
    "In the single-baryon sector, see\n",
    "\n",
    " - Lang and Verduci [PRD 87 (2013) 054502](https://doi.org/10.1103/PhysRevD.87.054502)\n",
    " - Kiratidis, Kamleh, Leinweber, Liu, Stokes, and Thomas [PRD 95 (2017) 074507](https://doi.org/10.1103/PhysRevD.95.074507)\n",
    " - Lang, Leskovec, Padmanath, and Prelovsek [PRD 95 (2017) 014510](https://doi.org/10.1103/PhysRevD.95.014510), [EPJ Web Conf. 175 (2018) 05004](https://doi.org/10.1051/epjconf/201817505004)\n",
    "\n",
    "For two nucleon scattering, see\n",
    "\n",
    " - PACS-CS [PRD 84 (2011) 054506](https://doi.org/10.1103/PhysRevD.84.054506)\n",
    " - Yamazaki et al. [PRD 86 (2012) 074514](https://doi.org/10.1103/PhysRevD.86.074514)\n",
    " - NPLQCD [PRD 87 (2013) 3 034506](https://doi.org/10.1103/PhysRevD.87.034506)\n",
    " - Yamazaki et al. [PRD 92 (2015) 1 014501](https://doi.org/10.1103/PhysRevD.92.014501)\n",
    " - NPLQCD [PRD 92 (2015) 11 114512](https://doi.org/10.1103/PhysRevD.92.114512)\n",
    " - CalLat [PLB 765 (2017) 285-292](https://doi.org/10.1016/j.physletb.2016.12.024)\n",
    " - NPLQCD [PRD 96 (2017) 11 114510](https://doi.org/10.1103/PhysRevD.96.114510)\n",
    " \n",
    "and for few-body matrix elements,\n",
    "\n",
    " - NPLQCD PRL 119 (2017) 6 [062002](https://doi.org/10.1103/PhysRevLett.119.062002) and [062003](https://doi.org/10.1103/PhysRevLett.119.062003)\n",
    " - NPLQCD [PRD 96 (2017) 5 054505](https://doi.org/10.1103/PhysRevD.96.054505)\n",
    " - NPLQCD [PRL 120 (2018) 15 152002](https://doi.org/10.1103/PhysRevLett.120.152002)\n",
    "\n",
    "while for studies of the H dibaryon, see\n",
    "\n",
    " - NPLQCD [Mod. Phys. Lett A26 (2011) 2587-2595](https://doi.org/10.1142/S0217732311036978)\n",
    " - NPLQCD [PRL 106 (2011) 162002](https://doi.org/10.1103/PhysRevLett.106.162001)\n",
    " - Francis et al. [arXiv:1805.03966](http://arxiv.org/abs/arXiv:1805.03966)"
   ]
  },
  {
   "cell_type": "markdown",
   "id": "5dc2b570-4e39-449f-ab7c-5ea313e23fa6",
   "metadata": {},
   "source": [
    "In this notebook we will work through a simple problem in the same spirit: two interacting nonrelativistic quantum-mechanical particles in one spatial dimension.  \n",
    "\n",
    "The approach will be as follows:\n",
    "1. Set up the Hamiltonian of interest and review how putting it in a finite volume produces a quantization conditon.  We'll consider a ring of radius $L$.\n",
    "2. Briefly review the S and T matrices.\n",
    "3. Examine the infinite- and finite-volume cases.  Derive the quantization condition.  The quantization condition is the map from the finite-volume energies to scattering phase shift.\n",
    "\n",
    "At that point, we will understand where Lüscher's formula comes from.  Then, we will apply it,\n",
    "\n",
    "3. Discretize the finite-volume problem and extract its spectrum for a variety of radii.\n",
    "4. Using the quantization condition, translate the energies found into phase shifts and compare with what we found in the infinite-volume case."
   ]
  },
  {
   "cell_type": "markdown",
   "id": "0bb09717-df79-41c5-a21f-71e9645c3643",
   "metadata": {},
   "source": [
    "In lattice QCD we do not have access to the nuclear Hamiltonian.  However, we can nevertheless determine its spectrum and use the quantization condition to translate those results into phase shifts!"
   ]
  },
  {
   "cell_type": "markdown",
   "id": "d5344dbc-f038-4301-8f21-5f1c5495f954",
   "metadata": {},
   "source": [
    "# One-Dimensional Quantum Mechanics Setup"
   ]
  },
  {
   "cell_type": "markdown",
   "id": "e92841bc-b6aa-4c03-9691-7b1c43a04e4b",
   "metadata": {},
   "source": [
    "Consider two distinguishable quantum mechanical particles that move in one infinite spatial dimension.  Let their interaction $V$ depend only on their separation.  Then, their Hamiltonian is given by\n",
    "\n",
    "$$ \\mathcal{H} = \\frac{p_1^2}{2 m_1} + \\frac{p_2^2}{2 m_2} + V(x_1-x_2) $$"
   ]
  },
  {
   "cell_type": "markdown",
   "id": "c7259e22-4e1a-4108-8376-330c8fad2e2d",
   "metadata": {},
   "source": [
    "We can switch to center-of-mass and relative coordinates.  Let\n",
    "\n",
    "\\begin{align}\n",
    "    M &= m_1 + m_2                      &  \\mu &= \\frac{m_1 m_2}{M} \\\\\n",
    "    X &= \\frac{m_1 x_1 + m_2 x_2}{M}    &    x &= x_1 - x_2          \\\\\n",
    "    K &= p_1+p_2                        &    k &= \\frac{m_2 p_1 - m_1 p_2}{M}                \\\\\n",
    "    U &= K / M                          &    u &= k/\\mu\n",
    "\\end{align}\n",
    "\n",
    "where the capital letters are center-of-mass variables, lower case letters are relative-coordinate variables, $M$ is mass, $X$ is position, $K$ is momentum, and $U$ is velocity.\n",
    "\n",
    "Then it is easy to check the canonical commutation relations $[X,K]=[x,k]=i$ hold, and that $[X,k]=[x,K]=0$, so that we have completely decoupled the center-of-mass and relative motion."
   ]
  },
  {
   "cell_type": "markdown",
   "id": "fbef1b4b-2041-4880-ab12-4c5b996428c5",
   "metadata": {},
   "source": [
    "### Exercise\n",
    "Check that $[X,K]=[x,k]=i$ and that $[X,k]=[x,K]=0$, assuming the canonical commutation relations $[x_i,p_j]=i \\delta_{ij}$"
   ]
  },
  {
   "cell_type": "markdown",
   "id": "dbad26b0-b101-47e7-9d3b-34614be0b539",
   "metadata": {},
   "source": [
    "### Exercise\n",
    "Check that the Hamiltonian may be rewritten in the new variables,\n",
    "\n",
    "\\begin{equation}\n",
    "    \\mathcal{H} = \\frac{K^2}{2 M} + \\frac{k^2}{2 \\mu} + V(x)\n",
    "\\end{equation}"
   ]
  },
  {
   "cell_type": "markdown",
   "id": "aa6e5ff0-8376-46de-90cd-6ea542292884",
   "metadata": {},
   "source": [
    "In these coordinates, it's clear that, as long as $V$ is even, there is a parity symmetry,\n",
    "\n",
    "\\begin{align}\n",
    "    x &\\rightarrow -x      &\n",
    "    k &\\rightarrow -k\n",
    "\\end{align}\n",
    "\n",
    "because $[H, \\mathcal{P}]=[V(x), \\mathcal{P}]=0$ where $\\mathcal{P}$ is the operator implementing the above transformation.\n",
    "\n",
    "Moreover, the center of mass is completely free.  So, intereting physical infinite-volume observables can only be a function of the relative momentum $k$."
   ]
  },
  {
   "cell_type": "markdown",
   "id": "0374eeb4-47cc-4c22-92f4-306cb55c3217",
   "metadata": {},
   "source": [
    "Since we have completely decoupled the center-of-mass degrees of freedom from the relative motion, we know the eigenfunctions can be expressed as products,\n",
    "\n",
    "\\begin{equation}\n",
    "    \\Psi(X,x) = e^{i K X} \\psi_K(x)\n",
    "\\end{equation}\n",
    "\n",
    "up to normalization."
   ]
  },
  {
   "cell_type": "markdown",
   "id": "2db472a7-ee71-4ec7-a064-31d13ef90466",
   "metadata": {},
   "source": [
    "# The S Matrix"
   ]
  },
  {
   "cell_type": "markdown",
   "id": "84d9eeed-a955-4d67-a418-0ff7db34c11a",
   "metadata": {},
   "source": [
    "Consider the scattering of two particles incident on one another in one dimension.  As the experimenter, we have the ability to control the momenta of the individual particles at the beginning of our scattering experiment.  That lets us set the initial $p_1$ and $p_2$ and thus the initial $K$ and $k$ arbitrarily.\n",
    "\n",
    "After the particles interact, their momenta may be changed.  How this exactly happens we don't get to investigate microscopically–––we just have access to the asymptotic states.  What we do know, of course, is that center-of-mass momentum and energy are separately conserved."
   ]
  },
  {
   "cell_type": "markdown",
   "id": "1caa8af2-f7eb-4bfc-a80a-074632b723cf",
   "metadata": {},
   "source": [
    "As we showed above, we can trade a two-particle system for a one-particle system with a stationary potential (as long as we remember what we chose for $K$–––but we'll focus on the $K=0$ sector).\n",
    "\n",
    "**We now adopt one-particle language for simplicity.**"
   ]
  },
  {
   "cell_type": "markdown",
   "id": "baa1af2a-59fb-4916-a6a4-78f3ca621d6f",
   "metadata": {},
   "source": [
    "The momenta after scattering is entirely fixed by kinematics, and is especially simple in 1 dimension.  \n",
    "\n",
    "Conservation of energy and momentum imply that the only allowed final relative momenta are $\\pm k$."
   ]
  },
  {
   "cell_type": "markdown",
   "id": "e83a1e7e-b872-4a19-90e2-65faf859d18d",
   "metadata": {},
   "source": [
    "We can separately discuss cases when the particle is to the left or right of the potential,\n",
    "\n",
    "\\begin{align}\n",
    "    x &> 0 && \\text{``on the right\"} \\\\\n",
    "    x &< 0 && \\text{``on the left\".}\n",
    "\\end{align}"
   ]
  },
  {
   "attachments": {},
   "cell_type": "markdown",
   "id": "387f2cfc-193d-48c7-8c97-f39e921ede63",
   "metadata": {},
   "source": [
    "We can also identify cases where the particle is incident on on the potential or if it's heading away from the potential.  $k$ tells us which direction the particle is moving,\n",
    "\n",
    "\\begin{align}\n",
    "    k &> 0 && \\text{``moving to the right\"} \\\\\n",
    "    k &< 0 && \\text{``moving to the left\".}\n",
    "\\end{align}\n",
    "\n",
    "Then, we have four kinds of states, two incoming states and two outgoing states.  If we agree that $k > 0$ and put in the signs explicitly then\n",
    "\n",
    "\\begin{align}\n",
    "        \\langle x |k; \\text{incoming from the left} \\rangle &\\sim e^{+i k x}\\theta(-x)\n",
    "    &   \\langle x |k; \\text{outgoing to the right}  \\rangle &\\sim e^{+i k x}\\theta(+x) \\\\\n",
    "        \\langle x |k; \\text{outgoing to the left}   \\rangle &\\sim e^{-i k x}\\theta(-x)\n",
    "    &   \\langle x |k; \\text{incoming from the right}\\rangle &\\sim e^{-i k x}\\theta(+x)\n",
    "\\end{align}\n",
    "\n",
    "where the Heaviside-$\\theta$ function tells us where the particle is in relation to the potential and the sign of $k$ tells us where it's heading.  We understand that the $\\theta$-functions are really telling us the asymptotic region we're supposed to be looking in–––we don't really have access to the wavefunction inside the range of the potential."
   ]
  },
  {
   "cell_type": "markdown",
   "id": "7600eb63-2769-4ee8-87ed-3cafd32b01ba",
   "metadata": {},
   "source": [
    "The $S$-matrix is the map that takes some incoming states and produces some outgoing states.  If our initial state is given by\n",
    "\n",
    "\\begin{equation}\n",
    "    \\left|\\Psi_i\\right\\rangle = \\alpha \\left|k; \\text{incoming from the left}\\right\\rangle \n",
    "                              + \\beta  \\left|k; \\text{incoming from the right}\\right\\rangle\n",
    "\\end{equation}\n",
    "\n",
    "and the final state by\n",
    "\n",
    "\\begin{equation}\n",
    "    \\left|\\Psi_f\\right\\rangle = a      \\left|k; \\text{outgoing to the right}\\right\\rangle\n",
    "                              + b      \\left|k; \\text{outgoing to the left}\\right\\rangle.\n",
    "\\end{equation}\n",
    "\n",
    "Then the $S$-matrix relates the coefficients,\n",
    "\n",
    "\\begin{equation}\n",
    "    \\left(\\begin{matrix} a \\\\ b\\end{matrix}\\right) \n",
    "    = S(k)\n",
    "    \\left(\\begin{matrix} \\alpha \\\\ \\beta \\end{matrix}\\right).\n",
    "\\end{equation}"
   ]
  },
  {
   "cell_type": "markdown",
   "id": "9f19e305-18cb-4520-a3c1-65ec55b6bb86",
   "metadata": {},
   "source": [
    "Let's specialize to interactions with good parity.  We can symmetrize to states of even ($+1$) and odd ($-1$) parity,\n",
    "\n",
    "\\begin{align}\n",
    "    \\langle X, x \\mid k; \\text{incoming, parity }P \\rangle &\\sim \\left(e^{+i k x} \\theta(-x) + P e^{-i k x} \\theta(+x) \\right)/\\sqrt{2} \\\\\n",
    "    \\langle X, x \\mid k; \\text{outgoing, parity }P \\rangle &\\sim \\left(e^{+i k x} \\theta(+x) + P e^{-i k x} \\theta(-x) \\right)/\\sqrt{2}\n",
    "\\end{align}\n",
    "\n",
    "and rewrite the asymptotic states\n",
    "\n",
    "\\begin{equation}\n",
    "    \\left|\\Psi_i, k; \\text{parity }P\\right\\rangle \n",
    "    = \\alpha_\\pm \\left|k; \\text{incoming, parity }P\\right\\rangle \n",
    "\\end{equation}\n",
    "\n",
    "and\n",
    "\n",
    "\\begin{equation}\n",
    "    \\left|\\Psi_f, k; \\text{parity }P\\right\\rangle \n",
    "    = a_\\pm      \\left|k; \\text{outgoing, parity }P\\right\\rangle \n",
    "\\end{equation}\n",
    "\n",
    "Because of the symmetry of the Hamiltonian, we know the $S$ matrix doesn't mix these different parities.  So, we have diagonalized $S$-matrix,\n",
    "\n",
    "\\begin{align}\n",
    "    a_+ &= S_+ \\alpha_+\n",
    "    &\n",
    "    a_- &= S_- \\alpha_-\n",
    "\\end{align}\n",
    "\n",
    "In three spatial dimensions, the spiritually equivalent rewriting is in the basis of good angular momentum.\n",
    "\n",
    "Since $S$ is unitary and the different channels don't talk to one another, each channel has its own independent scattering phase shift $\\delta(k)$ that depends on the scattering momentum and determines the $S$ matrix  $S_\\pm = \\exp\\left(2 i \\delta_\\pm(k)\\right)$."
   ]
  },
  {
   "cell_type": "markdown",
   "id": "9cd02cfb-59eb-4c5a-99f8-53f798df117d",
   "metadata": {},
   "source": [
    "From general scattering theory, we know $S=1+iT$, and that $T$ admits a partial wave expansion.  As a reminder, in three spatial dimensions,\n",
    "\n",
    "\\begin{align}\n",
    "    S_l(k) &= 1 + 2 i k f_l(k) & \\text{or}&& f_l &= \\frac{1}{k \\cot \\delta_l - i k}\n",
    "\\end{align}\n",
    "\n",
    "The analogous result in 1 spatial dimension is\n",
    "\n",
    "\\begin{equation}\n",
    "    T = \\frac{k}{\\mu} \\frac{1}{\\cot \\delta(k) - i}\n",
    "\\end{equation}"
   ]
  },
  {
   "cell_type": "markdown",
   "id": "295cd3d8-ea5b-477a-991c-7e53a97bc715",
   "metadata": {},
   "source": [
    "In three dimensions $k \\cot \\delta_l$ is analytic in the energy and can be characterized by a Taylor series in $k^2$, the effective range expansion.\n",
    "\n",
    "Similarly, in 1D $\\cot \\delta(k)$ enjoys an expansion in $k^2$."
   ]
  },
  {
   "cell_type": "markdown",
   "id": "97a27468-b12c-46a7-aed4-5f1fba00ac0d",
   "metadata": {},
   "source": [
    "# Quantization Condition for the Relative Wavefunction"
   ]
  },
  {
   "cell_type": "markdown",
   "id": "0ad0176a-955a-4d49-899b-717608cc1104",
   "metadata": {},
   "source": [
    "For a time-independent state––which is another way to say a Hamiltonian eigenstate––where what's coming out of the scattering region reaches the periodic boundary and becomes the incoming wave, the relative wavefunction should, asymptotically, be some superposition of the incoming and outgoing states above.\n",
    "\n",
    "Let $\\psi(x) = \\alpha\\ \\psi_\\text{incoming}(x) + a\\ \\psi_\\text{outgoing}(x)$."
   ]
  },
  {
   "cell_type": "markdown",
   "id": "2e731fac-593d-4d1f-bbdb-da9c5e98b9a5",
   "metadata": {},
   "source": [
    "In the $N=0$ sector, the periodicity condition reads\n",
    "\n",
    "\\begin{equation}\n",
    "    \\psi(x+ L \\nu) = \\psi(x)\n",
    "\\end{equation}\n",
    "\n",
    "where $\\psi$ is the relative wavefunction.  Let's let $\\nu=1$ and set $x=-L/2$.  If $L$ is bigger than the range of the interaction, this is in the region where the wavefunctions look asymptotically like plane waves.\n",
    "\n",
    "\\begin{align}\n",
    "    \\psi(-L/2) &= \\psi(L/2)\n",
    "    \\\\\n",
    "    \\alpha e^{+i k (-L/2)} + a P e^{-i k (-L/2)} &= \\alpha P e^{-i k (+L/2)} + a e^{+i k (+L/2)}\n",
    "\\end{align}\n",
    "\n",
    "Massaging, one finds\n",
    "\n",
    "\\begin{equation}\n",
    "    \\frac{a}{\\alpha} = e^{-i k L}\n",
    "\\end{equation}"
   ]
  },
  {
   "cell_type": "markdown",
   "id": "94c48b22-ef4f-43a6-ad53-f41af546f0d4",
   "metadata": {},
   "source": [
    "If the two wavefunction components are related by the $S$ matrix then $a/\\alpha = e^{2i\\delta(k)}$ and\n",
    "\n",
    "\\begin{equation}\n",
    "    e^{2 i \\delta(k) + i k L} = 1\n",
    "\\end{equation}\n",
    "\n",
    "That's it.  That's Lüscher's formula for 1D quantum mechanics!\n",
    "\n",
    "Note that it contains no information about the interaction potential at all whatsoever."
   ]
  },
  {
   "cell_type": "markdown",
   "id": "b6dada31-8847-4f3e-a05e-e3ad2a85abd9",
   "metadata": {},
   "source": [
    "In one dimension, to make the expression schematically match other dimensions, it is often written\n",
    "\n",
    "\\begin{equation}\n",
    "    \\frac{1}{k} \\cot\\delta(k) = \\frac{L}{2\\pi^2} S_1\\left( 2 \\mu E (L/2\\pi)^2 \\right)\n",
    "    \\qquad\n",
    "    S_1(x) = -\\pi \\frac{\\cot \\pi \\sqrt{x}}{\\sqrt{x}}.\n",
    "\\end{equation}"
   ]
  },
  {
   "cell_type": "markdown",
   "id": "d31c27ea-6a45-49fb-8200-bd8e2b34f748",
   "metadata": {},
   "source": [
    "### Exercise:\n",
    "\n",
    "Show that this more complicated-looking expression is the same as the simple $e^{2i\\delta(k) + i k L}=1$, when the on-shell condition $k^2 = 2\\mu E$ is satisfied."
   ]
  },
  {
   "cell_type": "markdown",
   "id": "6ebb4eea-aae7-4d24-b7c9-a43e2954f2e4",
   "metadata": {},
   "source": [
    "### Exercise:\n",
    "\n",
    "I slighted you a bit.  When $P=+1$ the periodicity condition actually reduces to 0=0.  When the wavefunction is parity-even, of COURSE the wavefunction at $-L/2$ is the same as the wavefunction at $+L/2$.  Continuity across the boundary is guaranteed.  However, it's not guaranteed to be smooth.\n",
    "\n",
    "Convince yourself that when $P=+1$, matching the derivative of the relative wavefunction reproduces the same quantization condition, and importantly, that matching the derivative doesn't overconstrain the $P=-1$ case!"
   ]
  },
  {
   "cell_type": "markdown",
   "id": "a0699eef-d413-4c23-989a-c1204abaf40f",
   "metadata": {},
   "source": [
    "### Questions\n",
    "\n",
    "1.  What spatial symmetry/symmetries do the one-dimensional periodic boundary conditions have?  What spatial symmetry/symmetries does the infinite-volume $K=0$ sector of the Hamiltonian have?\n",
    "\n",
    "2.  Think of periodic boundary conditions to three spatial dimensions.  What kind of functions solve them?  Do they have the symmetries of the analogous infinite-volume Hamiltonian?\n",
    "\n",
    "3.  Do the symmetries of finite-volume QCD match infinite-volume QCD?  Is one symmetry group smaller than the other?  Does one contain the other?"
   ]
  },
  {
   "cell_type": "markdown",
   "id": "06851eac-8903-4de2-8cda-87cb62518b72",
   "metadata": {},
   "source": [
    "As we discussed, the $S$-matrix relates asymptotic incoming states to asymptotic outgoing states.  This relation is fundamentally different from the relation given by the periodic boundary conditions.  Recall our earlier discussion: the $S$-matrix is the map that takes some incoming states and produces some outgoing states.  The boundary conditions select which, of all asymptotic states, fit just so."
   ]
  },
  {
   "cell_type": "markdown",
   "id": "5da2e66d-eb86-49fc-8a2f-fb28d85387db",
   "metadata": {},
   "source": [
    "# A Simple 1-Body Quantum Mechanics Solver"
   ]
  },
  {
   "cell_type": "markdown",
   "id": "5d89685b-bada-49e6-86f2-b5bcfaa35bee",
   "metadata": {},
   "source": [
    "In this directory is `qm`, a solver for the quantum mechanics of one particle with $\\mu=1$ and potential $V$ in a periodic box"
   ]
  },
  {
   "cell_type": "code",
   "execution_count": null,
   "id": "4953646e-03b9-4241-b1d7-aed71c1849ad",
   "metadata": {},
   "outputs": [],
   "source": [
    "import qm"
   ]
  },
  {
   "cell_type": "markdown",
   "id": "f91c3f2d-a746-4f5c-a5a4-fed913b04b65",
   "metadata": {},
   "source": [
    "which we will introduce two simple cases."
   ]
  },
  {
   "cell_type": "markdown",
   "id": "e5f91713-2fe7-4c5b-8c43-01eccfc49fa3",
   "metadata": {},
   "source": [
    "<span style=\"color: red\"> The units are such that µ=1! </span>"
   ]
  },
  {
   "cell_type": "markdown",
   "id": "789c8632-1a69-4f04-9b4f-f20a14854e21",
   "metadata": {},
   "source": [
    "## Free Particle"
   ]
  },
  {
   "cell_type": "markdown",
   "id": "9fea1865-a7e4-46dd-aa06-e49b3c03081b",
   "metadata": {},
   "source": [
    "### Expectations"
   ]
  },
  {
   "cell_type": "markdown",
   "id": "a0a3f623-9aa4-4135-8ef2-15028d2edf1b",
   "metadata": {},
   "source": [
    "Before we do anything numerical, let's understand what it is we hope to get out of our solver."
   ]
  },
  {
   "cell_type": "markdown",
   "id": "7888ce5c-b48f-41d9-b7db-a5a448af8e31",
   "metadata": {},
   "source": [
    "Q: What is the spectrum of a single free particle\n",
    "\n",
    "$$ H = \\frac{k^2}{2} $$\n",
    "\n",
    "in a 1D box of length L with periodic boundary conditions?\n",
    "\n",
    "Q: Which, states are degenerate, if any?"
   ]
  },
  {
   "cell_type": "code",
   "execution_count": null,
   "id": "a87a8544-685e-4ae8-be0a-dce0dbebf0cc",
   "metadata": {},
   "outputs": [],
   "source": [
    "def free_spectrum(n, L):\n",
    "    # Excercise: remember 1D quantum mechanics?\n",
    "    # Fill in this function so that for any positive integer n and real L\n",
    "    # this returns the nth unique energy eigenvalue.\n",
    "    return (2*np.pi*n/L)**2/2"
   ]
  },
  {
   "cell_type": "code",
   "execution_count": null,
   "id": "be8e1bf3-f27d-48c1-bf31-b31668ee275a",
   "metadata": {},
   "outputs": [],
   "source": [
    "def free_phase_shift(k_squared):\n",
    "    # Exercise:\n",
    "    #\n",
    "    # Fill in this function so that for any k^2 this returns\n",
    "    # the phase shift δ(k)\n",
    "    # for a free particle\n",
    "    return np.zeros_like(k_squared)"
   ]
  },
  {
   "cell_type": "markdown",
   "id": "2b849e3b-bab2-47fe-9a9e-5172ad829727",
   "metadata": {},
   "source": [
    "### Setup"
   ]
  },
  {
   "cell_type": "markdown",
   "id": "6145d88f-4ef9-4b38-a205-79a9b834821a",
   "metadata": {},
   "source": [
    "Let us just get familiar with our solver.  A set of Hamiltonians requires a potential which maps $x \\rightarrow V(x)$,"
   ]
  },
  {
   "cell_type": "code",
   "execution_count": null,
   "id": "2da282bb-0446-4751-bbb6-3bd215621fde",
   "metadata": {},
   "outputs": [],
   "source": [
    "class free:\n",
    "\n",
    "    def __init__(self):\n",
    "        pass\n",
    "\n",
    "    def __call__(self, lattice):\n",
    "        # this has to evaluate for every x at once!\n",
    "        return np.zeros_like(lattice.x)\n",
    "\n",
    "V = free()\n",
    "H = qm.Hamiltonian(V)"
   ]
  },
  {
   "cell_type": "markdown",
   "id": "b36f7a56-5a16-46e8-a740-919afb092483",
   "metadata": {},
   "source": [
    "But we can only get something concrete if we provide a periodic lattice which has length L and is discretized into N sites.,"
   ]
  },
  {
   "cell_type": "code",
   "execution_count": null,
   "id": "c7162c98-ebbd-45ba-a281-ec002f9f66e4",
   "metadata": {},
   "outputs": [],
   "source": [
    "L = 20\n",
    "sites = 100\n",
    "lattice = qm.Lattice(L, sites)"
   ]
  },
  {
   "cell_type": "markdown",
   "id": "74150711-c793-404c-9aa9-41576e9a87a7",
   "metadata": {},
   "source": [
    "The lattice knows spatial coordinates"
   ]
  },
  {
   "cell_type": "code",
   "execution_count": null,
   "id": "3f29d487-7a76-4c1e-9095-8f65eefa695a",
   "metadata": {},
   "outputs": [],
   "source": [
    "lattice.x"
   ]
  },
  {
   "cell_type": "markdown",
   "id": "a30ef20a-27d3-41fc-a0d6-444ac6eb54a5",
   "metadata": {},
   "source": [
    "and the lattice spacing"
   ]
  },
  {
   "cell_type": "code",
   "execution_count": null,
   "id": "923758cd-5d4b-431d-8701-94ebba018afa",
   "metadata": {},
   "outputs": [],
   "source": [
    "lattice.dx"
   ]
  },
  {
   "cell_type": "markdown",
   "id": "8949c58f-3789-4123-ba4d-77825bf270be",
   "metadata": {},
   "source": [
    "The free particle has no potential energy anywhere,"
   ]
  },
  {
   "cell_type": "code",
   "execution_count": null,
   "id": "c82c6899-b1a0-4fee-92c5-a5830b2cf4bd",
   "metadata": {},
   "outputs": [],
   "source": [
    "V(lattice)"
   ]
  },
  {
   "cell_type": "markdown",
   "id": "95a7cd9a-b868-4c73-ac6c-d7e99707ecc4",
   "metadata": {},
   "source": [
    "### Energies and Eigenfunctions"
   ]
  },
  {
   "cell_type": "markdown",
   "id": "02dfbeed-10b3-4dbf-94b9-649fd9882725",
   "metadata": {},
   "source": [
    "Now we can get the Hamiltonian for the lattice, which is sites × sites matrix."
   ]
  },
  {
   "cell_type": "code",
   "execution_count": null,
   "id": "9d7a41dd-1f46-4472-87e1-70a4cd7535de",
   "metadata": {},
   "outputs": [],
   "source": [
    "h = H(lattice)\n",
    "print(h.shape)"
   ]
  },
  {
   "cell_type": "markdown",
   "id": "530214f4-a720-423a-b91b-51e92b43d032",
   "metadata": {},
   "source": [
    "You could now take this h and get its eigenvalues and so on, but the Hamiltonian itself provides a convenience function for getting the eigenvalues and eigenvectors."
   ]
  },
  {
   "cell_type": "code",
   "execution_count": null,
   "id": "fb72c1e5-e0d3-4084-a213-9105d9ab9d6b",
   "metadata": {},
   "outputs": [],
   "source": [
    "energies, wavefunctions = H.spectrum(lattice)"
   ]
  },
  {
   "cell_type": "markdown",
   "id": "47787657-c02a-4e5b-b318-74e675621c29",
   "metadata": {},
   "source": [
    "Let's check the resulting energies against your expectations."
   ]
  },
  {
   "cell_type": "code",
   "execution_count": null,
   "id": "ad24a84b-cc8c-4c30-96f7-5a84f1d78287",
   "metadata": {},
   "outputs": [],
   "source": [
    "print(energies[:20])\n",
    "print(free_spectrum(np.arange(11), L))"
   ]
  },
  {
   "cell_type": "markdown",
   "id": "36ef851b-e302-45dd-ad4c-10f2a024eb8e",
   "metadata": {},
   "source": [
    "If they don't match as expected, go back!"
   ]
  },
  {
   "cell_type": "markdown",
   "id": "b391e7ce-c9a4-4459-811b-2c99d6a571dd",
   "metadata": {},
   "source": [
    "### Plotting energies, wavefunctions."
   ]
  },
  {
   "cell_type": "markdown",
   "id": "ebb81802-a8e5-4ed8-bd9b-5c16d11da8b7",
   "metadata": {},
   "source": [
    "`qm` provides a plotting utility to help you visualize the spectrum."
   ]
  },
  {
   "cell_type": "code",
   "execution_count": null,
   "id": "45053964-0b94-49c2-8383-cee615a2e7a8",
   "metadata": {},
   "outputs": [],
   "source": [
    "fig, ax = plt.subplots()\n",
    "states = 11 # How many states to visualize\n",
    "qm.plot.spectrum(ax, lattice, energies, wavefunctions, states, potential=V)"
   ]
  },
  {
   "cell_type": "markdown",
   "id": "bca12bde-3499-46ce-a87b-414a2186a40b",
   "metadata": {},
   "source": [
    "### Finite-volume behavior"
   ]
  },
  {
   "cell_type": "markdown",
   "id": "79e088cf-e398-40a1-a70a-98ff19cca2ee",
   "metadata": {},
   "source": [
    "We can find the spectrum of the free Hamiltonian as a function of L."
   ]
  },
  {
   "cell_type": "code",
   "execution_count": null,
   "id": "5ccff8ff-9daa-4765-bfa7-8bdf9ecb4ae0",
   "metadata": {},
   "outputs": [],
   "source": [
    "Ls = np.linspace(1,20)\n",
    "nx = 100\n",
    "\n",
    "states = 10\n",
    "\n",
    "spectra = deque()\n",
    "\n",
    "for L in Ls:\n",
    "    e, v = H.spectrum(qm.Lattice(L, nx))\n",
    "    spectra.append(e[:states])\n",
    "\n",
    "# Rather than group the states by L, let's group them by eigenvalue number.\n",
    "finite_volume_behavior = np.array(spectra).T\n",
    "\n",
    "# Then we can track the finite-volume energies as a function of L\n",
    "fig, ax = plt.subplots()\n",
    "for state in finite_volume_behavior:\n",
    "    ax.plot(Ls, state, marker='o', linestyle='none')\n",
    "\n",
    "# You also provided the free spectrum, to which we can compare.\n",
    "for state in range(states//2 + 1):\n",
    "    L = np.linspace(1,20, 100)\n",
    "    ax.plot(L, free_spectrum(state, L), color='black', zorder=-1)\n",
    "\n",
    "ax.set_yscale('log')\n",
    "ax.set_xscale('log')\n",
    "ax.set_ylim([1e-2,1e3])\n",
    "\n",
    "ax.set_xlabel('L')\n",
    "ax.set_ylabel('Eigenenergies')\n"
   ]
  },
  {
   "cell_type": "markdown",
   "id": "17653e83-fd8e-4c6b-890f-da37ba8ccfe3",
   "metadata": {},
   "source": [
    "### Lüscher Formalism"
   ]
  },
  {
   "cell_type": "markdown",
   "id": "d0c199f2-e436-49e6-96f5-943ffeec2ee8",
   "metadata": {},
   "source": [
    "Recall the quantization condition\n",
    "\n",
    "$$\n",
    "    \\frac{1}{k} \\cot\\delta(k) = \\frac{L}{2\\pi^2} S_1\\left( 2 \\mu E (L/2\\pi)^2 \\right)\n",
    "    \\qquad\n",
    "    S_1(x) = -\\pi \\frac{\\cot \\pi \\sqrt{x}}{\\sqrt{x}}.\n",
    "$$\n",
    "\n",
    "where $E = k^2/2\\mu$.\n",
    "\n",
    "It is common to reexpress everything in terms of $x = 2\\mu E (L/2\\pi)^2 = (kL/2\\pi)^2$.\n",
    "\n",
    "$$\n",
    "    \\cot\\delta(k(x)) = \\frac{1}{\\pi }\\sqrt{\\left(\\frac{kL}{2\\pi}\\right)^2} S_1\\left( 2 \\mu E (L/2\\pi)^2 \\right) = \\frac{1}{\\pi} \\sqrt{x} S_1(x)\n",
    "$$"
   ]
  },
  {
   "cell_type": "code",
   "execution_count": null,
   "id": "45241d4e-761d-4367-8575-e1ae87022c25",
   "metadata": {},
   "outputs": [],
   "source": [
    "def Luescher_x(E, L):\n",
    "    # Exercise: given E and L, produce x.\n",
    "    return 2*E*(L/(2*np.pi))**2 + 0.j\n",
    "\n",
    "def S(x):\n",
    "    # Exercise: implement S\n",
    "    root_x = np.sqrt(x)\n",
    "    return - np.pi / (root_x * np.tan(np.pi * root_x))\n",
    "\n",
    "def cot_delta(E, L):\n",
    "    # Exercise: implement cot(δ)\n",
    "    x = Luescher_x(E, L)\n",
    "    return 1 / np.pi * np.sqrt(x) * S(x)\n",
    "\n",
    "# Unbelievably, numpy doesn't provide cotangent or arccot!\n",
    "def cot(theta):\n",
    "    return 1/np.tan(theta)\n",
    "\n",
    "def arccot(x):\n",
    "    # We want the principal value.\n",
    "    # https://en.wikipedia.org/wiki/Inverse_trigonometric_functions#Principal_values\n",
    "    # Therefore we need to mod into [0, π)\n",
    "    \n",
    "    arccot = np.arctan(1/x)\n",
    "    return np.where(arccot.imag == 0, np.mod(arccot.real, np.pi), arccot)\n",
    "\n",
    "# Finally, here's where the action is!\n",
    "def Luescher_map(E, L):\n",
    "    # Exercise: implement the map from (E, L) to k^2 and δ\n",
    "    scattering_momentum_squared = 2*E + 0.j\n",
    "    delta = arccot( cot_delta(E, L) )\n",
    "\n",
    "    return scattering_momentum_squared, delta"
   ]
  },
  {
   "cell_type": "code",
   "execution_count": null,
   "id": "ade4ca97-5a02-47c9-a6f2-3525a1456437",
   "metadata": {},
   "outputs": [],
   "source": [
    "Ls = np.arange(1,5,0.25)\n",
    "Nx = 100\n",
    "trust = 10\n",
    "\n",
    "fig, ax = plt.subplots()\n",
    "\n",
    "ax.axhline(     0,   color='black', zorder=-1, linestyle=':')\n",
    "ax.axhline(+np.pi/2, color='black', zorder=-1, linestyle=':')\n",
    "ax.axhline(+np.pi,   color='black', zorder=-1, linestyle=':')\n",
    "\n",
    "for L in Ls:\n",
    "\n",
    "    energies, wavefunctions = H.spectrum(qm.Lattice(L, 100))\n",
    "    \n",
    "    # NOTE THE FOLLOWING DOES NOT DEPEND ON KNOWLEDGE OF THE POTENTIAL!\n",
    "    # FINITE-VOLUME ENERGIES ONLY!\n",
    "    E = energies[:trust]\n",
    "\n",
    "    ksq, delta = Luescher_map(E,L)\n",
    "    ax.plot(ksq, delta, \"+\")\n",
    "\n",
    "ksq_max = 500\n",
    "ksq = np.linspace(0, ksq_max, 100)\n",
    "ax.plot(ksq, free_phase_shift(ksq), color='black', zorder=-1)\n",
    "\n",
    "ax.set_xlabel(r'$k^2$')\n",
    "ax.set_xlim([-0.05*ksq_max, 1.05*ksq_max])\n",
    "ax.set_ylim([-0.1, np.pi+0.1])\n",
    "ax.set_ylabel(r'$\\delta(k)$')"
   ]
  },
  {
   "cell_type": "markdown",
   "id": "d96b9bad-7992-4818-a9d9-3c0f77e2b352",
   "metadata": {},
   "source": [
    "Does it look right?  Is it as expected?"
   ]
  },
  {
   "cell_type": "markdown",
   "id": "85588448-8fcb-45a3-9ed4-f9099848bf02",
   "metadata": {},
   "source": [
    "# δ-Function Interactions"
   ]
  },
  {
   "cell_type": "markdown",
   "id": "0756f164-60ff-48c4-a1bc-964529b213da",
   "metadata": {},
   "source": [
    "## Setup"
   ]
  },
  {
   "cell_type": "markdown",
   "id": "a216caea-0370-4955-a026-f00b278f0b68",
   "metadata": {},
   "source": [
    "A delta-function interaction\n",
    "\n",
    "$$ \n",
    "    V(x) = g \\delta(x)\n",
    "$$\n",
    "\n",
    "has a bound state with binding energy $-g^2/2$ when $g<0$."
   ]
  },
  {
   "cell_type": "code",
   "execution_count": null,
   "id": "c037cd46-b170-4056-a207-ba02a3de7ef1",
   "metadata": {},
   "outputs": [],
   "source": [
    "class dirac_delta:\n",
    "\n",
    "    def __init__(self, g):\n",
    "        self.g = g\n",
    "        self.binding = - g**2 / 2 if g < 0 else 0\n",
    "    \n",
    "    def __call__(self, lattice):\n",
    "        # Exercise:\n",
    "        # Given the points of the lattice x, construct the δ-function potential\n",
    "        # with strength g.\n",
    "        #\n",
    "        # Does your solution really go to gδ(x) as we make the discretization finer?\n",
    "        return self.g * (lattice.x == 0) / lattice.dx"
   ]
  },
  {
   "cell_type": "markdown",
   "id": "0c12602f-9343-4a4e-b33d-9a69fb552281",
   "metadata": {},
   "source": [
    "Because of its simplicity, we can exactly compute the phase shifts from scattering off of this well.\n",
    "\n",
    "Indeed, one can find in a variety of elementary quantum mechanics books that with $\\mu=1$\n",
    "\n",
    "$$ \\tan 2\\delta = -\\frac{2gk}{k^2-g^2} $$"
   ]
  },
  {
   "cell_type": "code",
   "execution_count": null,
   "id": "9085b1cd-872e-480a-a58a-6d247e7166d3",
   "metadata": {},
   "outputs": [],
   "source": [
    "def expectation(g, k_squared):\n",
    "    return 0.5 * arccot( - (k_squared - g**2) / (2 * g * np.sqrt(k_squared)) )"
   ]
  },
  {
   "cell_type": "markdown",
   "id": "3e8035c3-e3e4-45f7-aa51-1206f10a0415",
   "metadata": {},
   "source": [
    "<center><span style='color: red'> The goal is to reproduce this exact result only leveraging finite-volume spectra.</span></center>\n",
    "\n",
    "In QCD we won't know the analogous result, but we *will* have access to the finite-volume spectra.  By finding another route to the scattering phase shift we can leverage the lattice to learn about scattering."
   ]
  },
  {
   "cell_type": "markdown",
   "id": "ff2b80c1-fdf4-4eda-94a4-898bbf8d887b",
   "metadata": {},
   "source": [
    "## Finite-Volume Spectrum"
   ]
  },
  {
   "cell_type": "markdown",
   "id": "2975f9b8-e06e-4b99-8215-e4923471216d",
   "metadata": {},
   "source": [
    "Let's look at an example finite-volume spectrum."
   ]
  },
  {
   "cell_type": "code",
   "execution_count": null,
   "id": "d2e55992-c259-4c90-9e81-09addb07acac",
   "metadata": {},
   "outputs": [],
   "source": [
    "g = -3\n",
    "δ = dirac_delta(g)\n",
    "print(f'Expect binding energy {δ.binding}')\n",
    "H = qm.Hamiltonian(δ)\n",
    "L = qm.Lattice(10, 100)\n",
    "h = H(L)\n",
    "fig, ax = plt.subplots()\n",
    "qm.plot.spectrum(ax, L, *H.spectrum(L), 11, potential=δ)\n",
    "\n",
    "ax.set_ylim([-5, 6])"
   ]
  },
  {
   "cell_type": "markdown",
   "id": "2ae2d5b2-4c66-4631-87a8-89b66b6b0eb1",
   "metadata": {},
   "source": [
    "Notice that the finite-volume ground state did not exactly match our expectations.\n",
    "\n",
    "### Exercise:\n",
    "How come?  Can you verify your answer numerically?"
   ]
  },
  {
   "cell_type": "markdown",
   "id": "6afdf1b1-df9f-4532-8322-a161653970c2",
   "metadata": {},
   "source": [
    "## Comparing to noninteracting energies"
   ]
  },
  {
   "cell_type": "markdown",
   "id": "9af90f9d-e0fc-4afa-b336-1258650ba9c4",
   "metadata": {},
   "source": [
    "We can compare the energies as a function of $L$ to the free energies."
   ]
  },
  {
   "cell_type": "code",
   "execution_count": null,
   "id": "13413f4f-cd59-4b8b-b15b-f4ca9ed640d0",
   "metadata": {},
   "outputs": [],
   "source": [
    "Ls = np.linspace(1,20)\n",
    "nx = 100\n",
    "\n",
    "states = 10\n",
    "\n",
    "spectra = deque()\n",
    "\n",
    "for L in Ls:\n",
    "    e, v = H.spectrum(qm.Lattice(L, nx))\n",
    "    spectra.append(e[:states])\n",
    "\n",
    "# Rather than group the states by L, let's group them by eigenvalue number.\n",
    "finite_volume_behavior = np.array(spectra).T\n",
    "\n",
    "# Then we can track the finite-volume energies as a function of L\n",
    "fig, ax = plt.subplots()\n",
    "for state in finite_volume_behavior:\n",
    "    ax.plot(Ls, state, marker='o', linestyle='none')\n",
    "\n",
    "# You also provided the free spectrum, to which we can compare.\n",
    "for state in range(states//2 + 1):\n",
    "    L = np.linspace(1,20, 100)\n",
    "    ax.plot(L, free_spectrum(state, L), color='black', zorder=-1)\n",
    "\n",
    "ax.set_yscale('log')\n",
    "ax.set_xscale('log')\n",
    "ax.set_ylim([1e-2,1e3])\n",
    "\n",
    "ax.set_xlabel('L')\n",
    "ax.set_ylabel('Eigenenergies')"
   ]
  },
  {
   "cell_type": "markdown",
   "id": "bdfe69c1-12b0-4c15-a1d1-4ebb8b92dde6",
   "metadata": {},
   "source": [
    "Some states seem to match for all $L$ while others deviate from the noninteracting energies.\n",
    "\n",
    "### Question\n",
    "What's the explanation?"
   ]
  },
  {
   "cell_type": "markdown",
   "id": "a10c2451-7202-4017-b7c0-7f68b56cdb76",
   "metadata": {},
   "source": [
    "## Nontrivial Scattering Data"
   ]
  },
  {
   "cell_type": "markdown",
   "id": "6753c918-fed3-4329-841f-1172793165ff",
   "metadata": {},
   "source": [
    "OK, now for the reward for all this work!  Can we reproduce the known scattering phase shift using only the finite-volume energies?"
   ]
  },
  {
   "cell_type": "code",
   "execution_count": null,
   "id": "d2461c5f-8ac7-466f-8a64-872a7cac62e6",
   "metadata": {},
   "outputs": [],
   "source": [
    "Ls = np.arange(1,10,1)\n",
    "nx = 10\n",
    "trust = 10\n",
    "\n",
    "fig, ax = plt.subplots()\n",
    "ax.axhline(     0,   color='black', zorder=-1, linestyle=':')\n",
    "ax.axhline(+np.pi/2, color='black', zorder=-1, linestyle=':')\n",
    "ax.axhline(+np.pi,   color='black', zorder=-1, linestyle=':')\n",
    "\n",
    "\n",
    "spectra = deque()\n",
    "\n",
    "for L in Ls:\n",
    "\n",
    "    energies, wavefunctions = H.spectrum(qm.Lattice(L, nx))\n",
    "    \n",
    "    # NOTE THE FOLLOWING DOES NOT DEPEND ON KNOWLEDGE OF THE POTENTIAL!\n",
    "    # FINITE-VOLUME ENERGIES ONLY!\n",
    "    E = energies[:trust]\n",
    "    spectra.append(E)\n",
    "    ax.plot(*Luescher_map(E,L), \"+\")\n",
    "\n",
    "# known answer:\n",
    "ksq = np.linspace(0.1, 200, 1000)\n",
    "ax.plot(ksq, expectation(g, ksq), color='black', zorder=-1)\n",
    "\n",
    "ax.axhline(     0,   color='black', zorder=-1, linestyle=':')\n",
    "ax.axhline(+np.pi/2, color='black', zorder=-1, linestyle=':')\n",
    "ax.axhline(+np.pi,   color='black', zorder=-1, linestyle=':')\n",
    "ax.axvline(2*δ.binding, color='black', zorder=-1)\n",
    "\n",
    "ax.set_xlabel(r'$k^2$')\n",
    "ax.set_xlim([-20, 200])\n",
    "ax.set_ylim([-0.1, np.pi+0.1])\n",
    "ax.set_ylabel(r'$\\delta(k)$')"
   ]
  },
  {
   "cell_type": "markdown",
   "id": "4e7364f5-34fe-4482-b538-1a7853108f1a",
   "metadata": {},
   "source": [
    "### Exercise\n",
    "Does it match?  Can you improve it?\n",
    "\n",
    "### Question\n",
    "It seems like there are 2 distinct groups of states.  What's going on?"
   ]
  },
  {
   "cell_type": "markdown",
   "id": "06ab140b-c30e-4fff-b1ae-1ce75fdad554",
   "metadata": {},
   "source": [
    "## The bound state"
   ]
  },
  {
   "cell_type": "markdown",
   "id": "27a14a8f-3577-439b-aeba-fddf4e980030",
   "metadata": {},
   "source": [
    "Let's look at the lowest energy level, which presumably corresponds to the bound state.\n",
    "\n",
    "We know the exact value for the $\\delta$-function potential, so let's compare."
   ]
  },
  {
   "cell_type": "code",
   "execution_count": null,
   "id": "b861182d-0a20-4fdb-bff7-d4c5bb28a33b",
   "metadata": {},
   "outputs": [],
   "source": [
    "fig, ax = plt.subplots()\n",
    "\n",
    "for L, E in zip(Ls, spectra):\n",
    "    ax.plot((L,), (E[0],), 'o')\n",
    "\n",
    "ax.axhline(δ.binding, color='black', zorder=-1, linestyle=':')\n",
    "ax.set_xlabel('L')\n",
    "ax.set_ylabel('Bound State Energy')"
   ]
  },
  {
   "cell_type": "markdown",
   "id": "7215cece-a2e3-4af0-a1b8-a4510797c469",
   "metadata": {},
   "source": [
    "It appears that the ground state is deviating from the known result more and more as the box gets bigger and bigger.  That makes no sense---in bigger boxes the exponentially decay of a bound state should make the agreement better and better.\n",
    "\n",
    "### Question:\n",
    "What's the problem?  Can you verify your answer numerically?"
   ]
  },
  {
   "cell_type": "markdown",
   "id": "d6ccff21-a16a-478b-97f0-2e585a44892a",
   "metadata": {},
   "source": [
    "# Mystery Potential"
   ]
  },
  {
   "cell_type": "markdown",
   "id": "0fc79a08-c6f4-4536-8e60-72029a6a41a9",
   "metadata": {},
   "source": [
    "What if you're really blind to the potential?"
   ]
  },
  {
   "cell_type": "code",
   "execution_count": null,
   "id": "ee96dd64-80ff-4128-be9c-df1c9a239ca7",
   "metadata": {},
   "outputs": [],
   "source": [
    "mystery = qm.examples.mystery_potential # Don't look!"
   ]
  },
  {
   "cell_type": "markdown",
   "id": "1a3397c6-aefd-4e9b-bf03-56aea49647e4",
   "metadata": {},
   "source": [
    "### Exercise:\n",
    "What can you tell me about this mystery interaction?"
   ]
  },
  {
   "cell_type": "code",
   "execution_count": null,
   "id": "6bb0d3e1-eb23-4239-8a7a-bb89826ebf1f",
   "metadata": {},
   "outputs": [],
   "source": []
  }
 ],
 "metadata": {
  "kernelspec": {
   "display_name": "Python 3 (ipykernel)",
   "language": "python",
   "name": "python3"
  },
  "language_info": {
   "codemirror_mode": {
    "name": "ipython",
    "version": 3
   },
   "file_extension": ".py",
   "mimetype": "text/x-python",
   "name": "python",
   "nbconvert_exporter": "python",
   "pygments_lexer": "ipython3",
   "version": "3.9.13"
  }
 },
 "nbformat": 4,
 "nbformat_minor": 5
}
